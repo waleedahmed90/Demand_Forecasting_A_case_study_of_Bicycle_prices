{
 "cells": [
  {
   "cell_type": "markdown",
   "metadata": {},
   "source": [
    "## Load required libraries"
   ]
  },
  {
   "cell_type": "code",
   "execution_count": 1,
   "metadata": {},
   "outputs": [],
   "source": [
    "import math\n",
    "import numpy as np \n",
    "import pandas as pd\n",
    "import matplotlib.pyplot as plt\n",
    "import seaborn as sns\n",
    "from sklearn.model_selection import train_test_split\n",
    "import warnings\n",
    "warnings.filterwarnings('ignore')\n",
    "import joblib \n",
    "\n",
    "from sklearn import preprocessing,metrics,linear_model\n",
    "from sklearn.model_selection import cross_val_score,cross_val_predict,train_test_split, RandomizedSearchCV, TimeSeriesSplit\n",
    "from sklearn.ensemble import RandomForestRegressor\n",
    "import xgboost as xgb\n",
    "from xgboost import plot_importance\n",
    "from xgboost import XGBRegressor\n",
    "import scipy.stats as st"
   ]
  },
  {
   "cell_type": "markdown",
   "metadata": {},
   "source": [
    "## Load the dataset: We work with the daily data for the ML approach"
   ]
  },
  {
   "cell_type": "code",
   "execution_count": 3,
   "metadata": {},
   "outputs": [],
   "source": [
    "df = pd.read_csv('../dataset/day.csv')"
   ]
  },
  {
   "cell_type": "markdown",
   "metadata": {},
   "source": [
    "## Data exploration"
   ]
  },
  {
   "cell_type": "code",
   "execution_count": 4,
   "metadata": {},
   "outputs": [
    {
     "data": {
      "text/plain": [
       "(731, 16)"
      ]
     },
     "execution_count": 4,
     "metadata": {},
     "output_type": "execute_result"
    }
   ],
   "source": [
    "df.shape"
   ]
  },
  {
   "cell_type": "code",
   "execution_count": 5,
   "metadata": {},
   "outputs": [
    {
     "data": {
      "text/plain": [
       "instant         int64\n",
       "dteday         object\n",
       "season          int64\n",
       "yr              int64\n",
       "mnth            int64\n",
       "holiday         int64\n",
       "weekday         int64\n",
       "workingday      int64\n",
       "weathersit      int64\n",
       "temp          float64\n",
       "atemp         float64\n",
       "hum           float64\n",
       "windspeed     float64\n",
       "casual          int64\n",
       "registered      int64\n",
       "cnt             int64\n",
       "dtype: object"
      ]
     },
     "execution_count": 5,
     "metadata": {},
     "output_type": "execute_result"
    }
   ],
   "source": [
    "df.dtypes"
   ]
  },
  {
   "cell_type": "code",
   "execution_count": 6,
   "metadata": {},
   "outputs": [
    {
     "data": {
      "text/html": [
       "<div>\n",
       "<style scoped>\n",
       "    .dataframe tbody tr th:only-of-type {\n",
       "        vertical-align: middle;\n",
       "    }\n",
       "\n",
       "    .dataframe tbody tr th {\n",
       "        vertical-align: top;\n",
       "    }\n",
       "\n",
       "    .dataframe thead th {\n",
       "        text-align: right;\n",
       "    }\n",
       "</style>\n",
       "<table border=\"1\" class=\"dataframe\">\n",
       "  <thead>\n",
       "    <tr style=\"text-align: right;\">\n",
       "      <th></th>\n",
       "      <th>instant</th>\n",
       "      <th>dteday</th>\n",
       "      <th>season</th>\n",
       "      <th>yr</th>\n",
       "      <th>mnth</th>\n",
       "      <th>holiday</th>\n",
       "      <th>weekday</th>\n",
       "      <th>workingday</th>\n",
       "      <th>weathersit</th>\n",
       "      <th>temp</th>\n",
       "      <th>atemp</th>\n",
       "      <th>hum</th>\n",
       "      <th>windspeed</th>\n",
       "      <th>casual</th>\n",
       "      <th>registered</th>\n",
       "      <th>cnt</th>\n",
       "    </tr>\n",
       "  </thead>\n",
       "  <tbody>\n",
       "    <tr>\n",
       "      <th>0</th>\n",
       "      <td>1</td>\n",
       "      <td>2011-01-01</td>\n",
       "      <td>1</td>\n",
       "      <td>0</td>\n",
       "      <td>1</td>\n",
       "      <td>0</td>\n",
       "      <td>6</td>\n",
       "      <td>0</td>\n",
       "      <td>2</td>\n",
       "      <td>0.344167</td>\n",
       "      <td>0.363625</td>\n",
       "      <td>0.805833</td>\n",
       "      <td>0.160446</td>\n",
       "      <td>331</td>\n",
       "      <td>654</td>\n",
       "      <td>985</td>\n",
       "    </tr>\n",
       "    <tr>\n",
       "      <th>1</th>\n",
       "      <td>2</td>\n",
       "      <td>2011-01-02</td>\n",
       "      <td>1</td>\n",
       "      <td>0</td>\n",
       "      <td>1</td>\n",
       "      <td>0</td>\n",
       "      <td>0</td>\n",
       "      <td>0</td>\n",
       "      <td>2</td>\n",
       "      <td>0.363478</td>\n",
       "      <td>0.353739</td>\n",
       "      <td>0.696087</td>\n",
       "      <td>0.248539</td>\n",
       "      <td>131</td>\n",
       "      <td>670</td>\n",
       "      <td>801</td>\n",
       "    </tr>\n",
       "    <tr>\n",
       "      <th>2</th>\n",
       "      <td>3</td>\n",
       "      <td>2011-01-03</td>\n",
       "      <td>1</td>\n",
       "      <td>0</td>\n",
       "      <td>1</td>\n",
       "      <td>0</td>\n",
       "      <td>1</td>\n",
       "      <td>1</td>\n",
       "      <td>1</td>\n",
       "      <td>0.196364</td>\n",
       "      <td>0.189405</td>\n",
       "      <td>0.437273</td>\n",
       "      <td>0.248309</td>\n",
       "      <td>120</td>\n",
       "      <td>1229</td>\n",
       "      <td>1349</td>\n",
       "    </tr>\n",
       "    <tr>\n",
       "      <th>3</th>\n",
       "      <td>4</td>\n",
       "      <td>2011-01-04</td>\n",
       "      <td>1</td>\n",
       "      <td>0</td>\n",
       "      <td>1</td>\n",
       "      <td>0</td>\n",
       "      <td>2</td>\n",
       "      <td>1</td>\n",
       "      <td>1</td>\n",
       "      <td>0.200000</td>\n",
       "      <td>0.212122</td>\n",
       "      <td>0.590435</td>\n",
       "      <td>0.160296</td>\n",
       "      <td>108</td>\n",
       "      <td>1454</td>\n",
       "      <td>1562</td>\n",
       "    </tr>\n",
       "    <tr>\n",
       "      <th>4</th>\n",
       "      <td>5</td>\n",
       "      <td>2011-01-05</td>\n",
       "      <td>1</td>\n",
       "      <td>0</td>\n",
       "      <td>1</td>\n",
       "      <td>0</td>\n",
       "      <td>3</td>\n",
       "      <td>1</td>\n",
       "      <td>1</td>\n",
       "      <td>0.226957</td>\n",
       "      <td>0.229270</td>\n",
       "      <td>0.436957</td>\n",
       "      <td>0.186900</td>\n",
       "      <td>82</td>\n",
       "      <td>1518</td>\n",
       "      <td>1600</td>\n",
       "    </tr>\n",
       "  </tbody>\n",
       "</table>\n",
       "</div>"
      ],
      "text/plain": [
       "   instant      dteday  season  yr  mnth  holiday  weekday  workingday  \\\n",
       "0        1  2011-01-01       1   0     1        0        6           0   \n",
       "1        2  2011-01-02       1   0     1        0        0           0   \n",
       "2        3  2011-01-03       1   0     1        0        1           1   \n",
       "3        4  2011-01-04       1   0     1        0        2           1   \n",
       "4        5  2011-01-05       1   0     1        0        3           1   \n",
       "\n",
       "   weathersit      temp     atemp       hum  windspeed  casual  registered  \\\n",
       "0           2  0.344167  0.363625  0.805833   0.160446     331         654   \n",
       "1           2  0.363478  0.353739  0.696087   0.248539     131         670   \n",
       "2           1  0.196364  0.189405  0.437273   0.248309     120        1229   \n",
       "3           1  0.200000  0.212122  0.590435   0.160296     108        1454   \n",
       "4           1  0.226957  0.229270  0.436957   0.186900      82        1518   \n",
       "\n",
       "    cnt  \n",
       "0   985  \n",
       "1   801  \n",
       "2  1349  \n",
       "3  1562  \n",
       "4  1600  "
      ]
     },
     "execution_count": 6,
     "metadata": {},
     "output_type": "execute_result"
    }
   ],
   "source": [
    "df.head()"
   ]
  },
  {
   "cell_type": "markdown",
   "metadata": {},
   "source": [
    "# Preprocessing"
   ]
  },
  {
   "cell_type": "code",
   "execution_count": 7,
   "metadata": {},
   "outputs": [],
   "source": [
    "df.rename(columns={'instant':'rec_id','dteday':'datetime','yr':'year','mnth':'month','weathersit':'weather_condition',\n",
    "                       'hum':'humidity','cnt':'total_count'},inplace=True)"
   ]
  },
  {
   "cell_type": "code",
   "execution_count": 8,
   "metadata": {},
   "outputs": [],
   "source": [
    "df.drop('rec_id', axis=1, inplace=True)"
   ]
  },
  {
   "cell_type": "code",
   "execution_count": 9,
   "metadata": {},
   "outputs": [],
   "source": [
    "df['datetime'] = pd.to_datetime(df['datetime'])\n",
    "\n",
    "df['datetime']=pd.to_datetime(df.datetime)\n",
    "\n",
    "df['season']=df.season.astype('category')\n",
    "df['year']=df.year.astype('category')\n",
    "df['month']=df.month.astype('category')\n",
    "df['holiday']=df.holiday.astype('category')\n",
    "df['weekday']=df.weekday.astype('category')\n",
    "df['workingday']=df.workingday.astype('category')\n",
    "df['weather_condition']=df.weather_condition.astype('category')"
   ]
  },
  {
   "cell_type": "code",
   "execution_count": 10,
   "metadata": {},
   "outputs": [],
   "source": [
    "df.set_index('datetime', inplace=True)"
   ]
  },
  {
   "cell_type": "code",
   "execution_count": 11,
   "metadata": {},
   "outputs": [
    {
     "data": {
      "text/html": [
       "<div>\n",
       "<style scoped>\n",
       "    .dataframe tbody tr th:only-of-type {\n",
       "        vertical-align: middle;\n",
       "    }\n",
       "\n",
       "    .dataframe tbody tr th {\n",
       "        vertical-align: top;\n",
       "    }\n",
       "\n",
       "    .dataframe thead th {\n",
       "        text-align: right;\n",
       "    }\n",
       "</style>\n",
       "<table border=\"1\" class=\"dataframe\">\n",
       "  <thead>\n",
       "    <tr style=\"text-align: right;\">\n",
       "      <th></th>\n",
       "      <th>season</th>\n",
       "      <th>year</th>\n",
       "      <th>month</th>\n",
       "      <th>holiday</th>\n",
       "      <th>weekday</th>\n",
       "      <th>workingday</th>\n",
       "      <th>weather_condition</th>\n",
       "      <th>temp</th>\n",
       "      <th>atemp</th>\n",
       "      <th>humidity</th>\n",
       "      <th>windspeed</th>\n",
       "      <th>casual</th>\n",
       "      <th>registered</th>\n",
       "      <th>total_count</th>\n",
       "    </tr>\n",
       "    <tr>\n",
       "      <th>datetime</th>\n",
       "      <th></th>\n",
       "      <th></th>\n",
       "      <th></th>\n",
       "      <th></th>\n",
       "      <th></th>\n",
       "      <th></th>\n",
       "      <th></th>\n",
       "      <th></th>\n",
       "      <th></th>\n",
       "      <th></th>\n",
       "      <th></th>\n",
       "      <th></th>\n",
       "      <th></th>\n",
       "      <th></th>\n",
       "    </tr>\n",
       "  </thead>\n",
       "  <tbody>\n",
       "    <tr>\n",
       "      <th>2011-01-01</th>\n",
       "      <td>1</td>\n",
       "      <td>0</td>\n",
       "      <td>1</td>\n",
       "      <td>0</td>\n",
       "      <td>6</td>\n",
       "      <td>0</td>\n",
       "      <td>2</td>\n",
       "      <td>0.344167</td>\n",
       "      <td>0.363625</td>\n",
       "      <td>0.805833</td>\n",
       "      <td>0.160446</td>\n",
       "      <td>331</td>\n",
       "      <td>654</td>\n",
       "      <td>985</td>\n",
       "    </tr>\n",
       "    <tr>\n",
       "      <th>2011-01-02</th>\n",
       "      <td>1</td>\n",
       "      <td>0</td>\n",
       "      <td>1</td>\n",
       "      <td>0</td>\n",
       "      <td>0</td>\n",
       "      <td>0</td>\n",
       "      <td>2</td>\n",
       "      <td>0.363478</td>\n",
       "      <td>0.353739</td>\n",
       "      <td>0.696087</td>\n",
       "      <td>0.248539</td>\n",
       "      <td>131</td>\n",
       "      <td>670</td>\n",
       "      <td>801</td>\n",
       "    </tr>\n",
       "    <tr>\n",
       "      <th>2011-01-03</th>\n",
       "      <td>1</td>\n",
       "      <td>0</td>\n",
       "      <td>1</td>\n",
       "      <td>0</td>\n",
       "      <td>1</td>\n",
       "      <td>1</td>\n",
       "      <td>1</td>\n",
       "      <td>0.196364</td>\n",
       "      <td>0.189405</td>\n",
       "      <td>0.437273</td>\n",
       "      <td>0.248309</td>\n",
       "      <td>120</td>\n",
       "      <td>1229</td>\n",
       "      <td>1349</td>\n",
       "    </tr>\n",
       "    <tr>\n",
       "      <th>2011-01-04</th>\n",
       "      <td>1</td>\n",
       "      <td>0</td>\n",
       "      <td>1</td>\n",
       "      <td>0</td>\n",
       "      <td>2</td>\n",
       "      <td>1</td>\n",
       "      <td>1</td>\n",
       "      <td>0.200000</td>\n",
       "      <td>0.212122</td>\n",
       "      <td>0.590435</td>\n",
       "      <td>0.160296</td>\n",
       "      <td>108</td>\n",
       "      <td>1454</td>\n",
       "      <td>1562</td>\n",
       "    </tr>\n",
       "    <tr>\n",
       "      <th>2011-01-05</th>\n",
       "      <td>1</td>\n",
       "      <td>0</td>\n",
       "      <td>1</td>\n",
       "      <td>0</td>\n",
       "      <td>3</td>\n",
       "      <td>1</td>\n",
       "      <td>1</td>\n",
       "      <td>0.226957</td>\n",
       "      <td>0.229270</td>\n",
       "      <td>0.436957</td>\n",
       "      <td>0.186900</td>\n",
       "      <td>82</td>\n",
       "      <td>1518</td>\n",
       "      <td>1600</td>\n",
       "    </tr>\n",
       "  </tbody>\n",
       "</table>\n",
       "</div>"
      ],
      "text/plain": [
       "           season year month holiday weekday workingday weather_condition  \\\n",
       "datetime                                                                    \n",
       "2011-01-01      1    0     1       0       6          0                 2   \n",
       "2011-01-02      1    0     1       0       0          0                 2   \n",
       "2011-01-03      1    0     1       0       1          1                 1   \n",
       "2011-01-04      1    0     1       0       2          1                 1   \n",
       "2011-01-05      1    0     1       0       3          1                 1   \n",
       "\n",
       "                temp     atemp  humidity  windspeed  casual  registered  \\\n",
       "datetime                                                                  \n",
       "2011-01-01  0.344167  0.363625  0.805833   0.160446     331         654   \n",
       "2011-01-02  0.363478  0.353739  0.696087   0.248539     131         670   \n",
       "2011-01-03  0.196364  0.189405  0.437273   0.248309     120        1229   \n",
       "2011-01-04  0.200000  0.212122  0.590435   0.160296     108        1454   \n",
       "2011-01-05  0.226957  0.229270  0.436957   0.186900      82        1518   \n",
       "\n",
       "            total_count  \n",
       "datetime                 \n",
       "2011-01-01          985  \n",
       "2011-01-02          801  \n",
       "2011-01-03         1349  \n",
       "2011-01-04         1562  \n",
       "2011-01-05         1600  "
      ]
     },
     "execution_count": 11,
     "metadata": {},
     "output_type": "execute_result"
    }
   ],
   "source": [
    "df.head()"
   ]
  },
  {
   "cell_type": "code",
   "execution_count": 12,
   "metadata": {},
   "outputs": [
    {
     "data": {
      "text/html": [
       "<div>\n",
       "<style scoped>\n",
       "    .dataframe tbody tr th:only-of-type {\n",
       "        vertical-align: middle;\n",
       "    }\n",
       "\n",
       "    .dataframe tbody tr th {\n",
       "        vertical-align: top;\n",
       "    }\n",
       "\n",
       "    .dataframe thead th {\n",
       "        text-align: right;\n",
       "    }\n",
       "</style>\n",
       "<table border=\"1\" class=\"dataframe\">\n",
       "  <thead>\n",
       "    <tr style=\"text-align: right;\">\n",
       "      <th></th>\n",
       "      <th>temp</th>\n",
       "      <th>atemp</th>\n",
       "      <th>humidity</th>\n",
       "      <th>windspeed</th>\n",
       "      <th>casual</th>\n",
       "      <th>registered</th>\n",
       "      <th>total_count</th>\n",
       "    </tr>\n",
       "  </thead>\n",
       "  <tbody>\n",
       "    <tr>\n",
       "      <th>count</th>\n",
       "      <td>731.000000</td>\n",
       "      <td>731.000000</td>\n",
       "      <td>731.000000</td>\n",
       "      <td>731.000000</td>\n",
       "      <td>731.000000</td>\n",
       "      <td>731.000000</td>\n",
       "      <td>731.000000</td>\n",
       "    </tr>\n",
       "    <tr>\n",
       "      <th>mean</th>\n",
       "      <td>0.495385</td>\n",
       "      <td>0.474354</td>\n",
       "      <td>0.627894</td>\n",
       "      <td>0.190486</td>\n",
       "      <td>848.176471</td>\n",
       "      <td>3656.172367</td>\n",
       "      <td>4504.348837</td>\n",
       "    </tr>\n",
       "    <tr>\n",
       "      <th>std</th>\n",
       "      <td>0.183051</td>\n",
       "      <td>0.162961</td>\n",
       "      <td>0.142429</td>\n",
       "      <td>0.077498</td>\n",
       "      <td>686.622488</td>\n",
       "      <td>1560.256377</td>\n",
       "      <td>1937.211452</td>\n",
       "    </tr>\n",
       "    <tr>\n",
       "      <th>min</th>\n",
       "      <td>0.059130</td>\n",
       "      <td>0.079070</td>\n",
       "      <td>0.000000</td>\n",
       "      <td>0.022392</td>\n",
       "      <td>2.000000</td>\n",
       "      <td>20.000000</td>\n",
       "      <td>22.000000</td>\n",
       "    </tr>\n",
       "    <tr>\n",
       "      <th>25%</th>\n",
       "      <td>0.337083</td>\n",
       "      <td>0.337842</td>\n",
       "      <td>0.520000</td>\n",
       "      <td>0.134950</td>\n",
       "      <td>315.500000</td>\n",
       "      <td>2497.000000</td>\n",
       "      <td>3152.000000</td>\n",
       "    </tr>\n",
       "    <tr>\n",
       "      <th>50%</th>\n",
       "      <td>0.498333</td>\n",
       "      <td>0.486733</td>\n",
       "      <td>0.626667</td>\n",
       "      <td>0.180975</td>\n",
       "      <td>713.000000</td>\n",
       "      <td>3662.000000</td>\n",
       "      <td>4548.000000</td>\n",
       "    </tr>\n",
       "    <tr>\n",
       "      <th>75%</th>\n",
       "      <td>0.655417</td>\n",
       "      <td>0.608602</td>\n",
       "      <td>0.730209</td>\n",
       "      <td>0.233214</td>\n",
       "      <td>1096.000000</td>\n",
       "      <td>4776.500000</td>\n",
       "      <td>5956.000000</td>\n",
       "    </tr>\n",
       "    <tr>\n",
       "      <th>max</th>\n",
       "      <td>0.861667</td>\n",
       "      <td>0.840896</td>\n",
       "      <td>0.972500</td>\n",
       "      <td>0.507463</td>\n",
       "      <td>3410.000000</td>\n",
       "      <td>6946.000000</td>\n",
       "      <td>8714.000000</td>\n",
       "    </tr>\n",
       "  </tbody>\n",
       "</table>\n",
       "</div>"
      ],
      "text/plain": [
       "             temp       atemp    humidity   windspeed       casual  \\\n",
       "count  731.000000  731.000000  731.000000  731.000000   731.000000   \n",
       "mean     0.495385    0.474354    0.627894    0.190486   848.176471   \n",
       "std      0.183051    0.162961    0.142429    0.077498   686.622488   \n",
       "min      0.059130    0.079070    0.000000    0.022392     2.000000   \n",
       "25%      0.337083    0.337842    0.520000    0.134950   315.500000   \n",
       "50%      0.498333    0.486733    0.626667    0.180975   713.000000   \n",
       "75%      0.655417    0.608602    0.730209    0.233214  1096.000000   \n",
       "max      0.861667    0.840896    0.972500    0.507463  3410.000000   \n",
       "\n",
       "        registered  total_count  \n",
       "count   731.000000   731.000000  \n",
       "mean   3656.172367  4504.348837  \n",
       "std    1560.256377  1937.211452  \n",
       "min      20.000000    22.000000  \n",
       "25%    2497.000000  3152.000000  \n",
       "50%    3662.000000  4548.000000  \n",
       "75%    4776.500000  5956.000000  \n",
       "max    6946.000000  8714.000000  "
      ]
     },
     "execution_count": 12,
     "metadata": {},
     "output_type": "execute_result"
    }
   ],
   "source": [
    "df.describe()"
   ]
  },
  {
   "cell_type": "code",
   "execution_count": 13,
   "metadata": {},
   "outputs": [
    {
     "data": {
      "text/plain": [
       "season               0\n",
       "year                 0\n",
       "month                0\n",
       "holiday              0\n",
       "weekday              0\n",
       "workingday           0\n",
       "weather_condition    0\n",
       "temp                 0\n",
       "atemp                0\n",
       "humidity             0\n",
       "windspeed            0\n",
       "casual               0\n",
       "registered           0\n",
       "total_count          0\n",
       "dtype: int64"
      ]
     },
     "execution_count": 13,
     "metadata": {},
     "output_type": "execute_result"
    }
   ],
   "source": [
    "df.isnull().sum()"
   ]
  },
  {
   "cell_type": "markdown",
   "metadata": {},
   "source": [
    "### Remove highly correlated (redundant) features"
   ]
  },
  {
   "cell_type": "code",
   "execution_count": 14,
   "metadata": {},
   "outputs": [
    {
     "data": {
      "text/plain": [
       "(<Figure size 720x720 with 2 Axes>, <AxesSubplot:>)"
      ]
     },
     "execution_count": 14,
     "metadata": {},
     "output_type": "execute_result"
    },
    {
     "data": {
      "image/png": "[encoded data removed]",
      "text/plain": [
       "<Figure size 720x720 with 2 Axes>"
      ]
     },
     "metadata": {
      "needs_background": "light"
     },
     "output_type": "display_data"
    }
   ],
   "source": [
    "# Check for correlation\n",
    "plt.figure(figsize = (10,10)), sns.heatmap(df.corr())"
   ]
  },
  {
   "cell_type": "code",
   "execution_count": 15,
   "metadata": {},
   "outputs": [
    {
     "data": {
      "text/plain": [
       "(<Figure size 720x720 with 2 Axes>, <AxesSubplot:>)"
      ]
     },
     "execution_count": 15,
     "metadata": {},
     "output_type": "execute_result"
    },
    {
     "data": {
      "image/png": "[encoded data removed]",
      "text/plain": [
       "<Figure size 720x720 with 2 Axes>"
      ]
     },
     "metadata": {
      "needs_background": "light"
     },
     "output_type": "display_data"
    }
   ],
   "source": [
    "# Remove highly correlated values\n",
    "\n",
    "df.drop(['casual','registered','temp'], axis = 1, inplace = True)\n",
    "\n",
    "# Verify\n",
    "\n",
    "plt.figure(figsize = (10,10)), sns.heatmap(df.corr())"
   ]
  },
  {
   "cell_type": "code",
   "execution_count": 332,
   "metadata": {},
   "outputs": [
    {
     "data": {
      "text/plain": [
       "Index(['season', 'year', 'month', 'holiday', 'weekday', 'workingday',\n",
       "       'weather_condition', 'atemp', 'humidity', 'windspeed', 'total_count'],\n",
       "      dtype='object')"
      ]
     },
     "execution_count": 332,
     "metadata": {},
     "output_type": "execute_result"
    }
   ],
   "source": [
    "df.columns"
   ]
  },
  {
   "cell_type": "markdown",
   "metadata": {},
   "source": [
    "### Outlier analysis of numerical variables"
   ]
  },
  {
   "cell_type": "code",
   "execution_count": 16,
   "metadata": {},
   "outputs": [
    {
     "data": {
      "image/png": "[encoded data removed]",
      "text/plain": [
       "<Figure size 1080x576 with 1 Axes>"
      ]
     },
     "metadata": {
      "needs_background": "light"
     },
     "output_type": "display_data"
    },
    {
     "data": {
      "image/png": "[encoded data removed]",
      "text/plain": [
       "<Figure size 1080x576 with 1 Axes>"
      ]
     },
     "metadata": {
      "needs_background": "light"
     },
     "output_type": "display_data"
    }
   ],
   "source": [
    "# Total count\n",
    "fig,ax=plt.subplots(figsize=(15,8))\n",
    "#Boxplot for total_count outliers\n",
    "sns.boxplot(data=df[['total_count']])\n",
    "ax.set_title('total_count outliers')\n",
    "plt.show()\n",
    "\n",
    "# Temp, windspeed, humidity\n",
    "\n",
    "fig,ax=plt.subplots(figsize=(15,8))\n",
    "#Box plot for Temp_windspeed_humidity_outliers\n",
    "sns.boxplot(data=df[['atemp','windspeed','humidity']])\n",
    "ax.set_title('Temp_windspeed_humidity_outiers')\n",
    "plt.show()"
   ]
  },
  {
   "cell_type": "markdown",
   "metadata": {},
   "source": [
    "### Impute the outlier values"
   ]
  },
  {
   "cell_type": "code",
   "execution_count": 17,
   "metadata": {},
   "outputs": [
    {
     "data": {
      "text/html": [
       "<div>\n",
       "<style scoped>\n",
       "    .dataframe tbody tr th:only-of-type {\n",
       "        vertical-align: middle;\n",
       "    }\n",
       "\n",
       "    .dataframe tbody tr th {\n",
       "        vertical-align: top;\n",
       "    }\n",
       "\n",
       "    .dataframe thead th {\n",
       "        text-align: right;\n",
       "    }\n",
       "</style>\n",
       "<table border=\"1\" class=\"dataframe\">\n",
       "  <thead>\n",
       "    <tr style=\"text-align: right;\">\n",
       "      <th></th>\n",
       "      <th>season</th>\n",
       "      <th>year</th>\n",
       "      <th>month</th>\n",
       "      <th>holiday</th>\n",
       "      <th>weekday</th>\n",
       "      <th>workingday</th>\n",
       "      <th>weather_condition</th>\n",
       "      <th>atemp</th>\n",
       "      <th>humidity</th>\n",
       "      <th>windspeed</th>\n",
       "      <th>total_count</th>\n",
       "    </tr>\n",
       "    <tr>\n",
       "      <th>datetime</th>\n",
       "      <th></th>\n",
       "      <th></th>\n",
       "      <th></th>\n",
       "      <th></th>\n",
       "      <th></th>\n",
       "      <th></th>\n",
       "      <th></th>\n",
       "      <th></th>\n",
       "      <th></th>\n",
       "      <th></th>\n",
       "      <th></th>\n",
       "    </tr>\n",
       "  </thead>\n",
       "  <tbody>\n",
       "    <tr>\n",
       "      <th>2011-01-01</th>\n",
       "      <td>1</td>\n",
       "      <td>0</td>\n",
       "      <td>1</td>\n",
       "      <td>0</td>\n",
       "      <td>6</td>\n",
       "      <td>0</td>\n",
       "      <td>2</td>\n",
       "      <td>0.363625</td>\n",
       "      <td>0.805833</td>\n",
       "      <td>0.160446</td>\n",
       "      <td>985</td>\n",
       "    </tr>\n",
       "    <tr>\n",
       "      <th>2011-01-02</th>\n",
       "      <td>1</td>\n",
       "      <td>0</td>\n",
       "      <td>1</td>\n",
       "      <td>0</td>\n",
       "      <td>0</td>\n",
       "      <td>0</td>\n",
       "      <td>2</td>\n",
       "      <td>0.353739</td>\n",
       "      <td>0.696087</td>\n",
       "      <td>0.248539</td>\n",
       "      <td>801</td>\n",
       "    </tr>\n",
       "    <tr>\n",
       "      <th>2011-01-03</th>\n",
       "      <td>1</td>\n",
       "      <td>0</td>\n",
       "      <td>1</td>\n",
       "      <td>0</td>\n",
       "      <td>1</td>\n",
       "      <td>1</td>\n",
       "      <td>1</td>\n",
       "      <td>0.189405</td>\n",
       "      <td>0.437273</td>\n",
       "      <td>0.248309</td>\n",
       "      <td>1349</td>\n",
       "    </tr>\n",
       "    <tr>\n",
       "      <th>2011-01-04</th>\n",
       "      <td>1</td>\n",
       "      <td>0</td>\n",
       "      <td>1</td>\n",
       "      <td>0</td>\n",
       "      <td>2</td>\n",
       "      <td>1</td>\n",
       "      <td>1</td>\n",
       "      <td>0.212122</td>\n",
       "      <td>0.590435</td>\n",
       "      <td>0.160296</td>\n",
       "      <td>1562</td>\n",
       "    </tr>\n",
       "    <tr>\n",
       "      <th>2011-01-05</th>\n",
       "      <td>1</td>\n",
       "      <td>0</td>\n",
       "      <td>1</td>\n",
       "      <td>0</td>\n",
       "      <td>3</td>\n",
       "      <td>1</td>\n",
       "      <td>1</td>\n",
       "      <td>0.229270</td>\n",
       "      <td>0.436957</td>\n",
       "      <td>0.186900</td>\n",
       "      <td>1600</td>\n",
       "    </tr>\n",
       "  </tbody>\n",
       "</table>\n",
       "</div>"
      ],
      "text/plain": [
       "           season year month holiday weekday workingday weather_condition  \\\n",
       "datetime                                                                    \n",
       "2011-01-01      1    0     1       0       6          0                 2   \n",
       "2011-01-02      1    0     1       0       0          0                 2   \n",
       "2011-01-03      1    0     1       0       1          1                 1   \n",
       "2011-01-04      1    0     1       0       2          1                 1   \n",
       "2011-01-05      1    0     1       0       3          1                 1   \n",
       "\n",
       "               atemp  humidity  windspeed  total_count  \n",
       "datetime                                                \n",
       "2011-01-01  0.363625  0.805833   0.160446          985  \n",
       "2011-01-02  0.353739  0.696087   0.248539          801  \n",
       "2011-01-03  0.189405  0.437273   0.248309         1349  \n",
       "2011-01-04  0.212122  0.590435   0.160296         1562  \n",
       "2011-01-05  0.229270  0.436957   0.186900         1600  "
      ]
     },
     "execution_count": 17,
     "metadata": {},
     "output_type": "execute_result"
    }
   ],
   "source": [
    "#create dataframe for outliers\n",
    "wind_hum=pd.DataFrame(df,columns=['windspeed','humidity'])\n",
    " #Cnames for outliers                     \n",
    "cnames=['windspeed','humidity']       \n",
    "                      \n",
    "for i in cnames:\n",
    "    q75,q25=np.percentile(wind_hum.loc[:,i],[75,25]) # Divide data into 75%quantile and 25%quantile.\n",
    "    iqr=q75-q25 #Inter quantile range\n",
    "    min=q25-(iqr*1.5) #inner fence\n",
    "    max=q75+(iqr*1.5) #outer fence\n",
    "    wind_hum.loc[wind_hum.loc[:,i]<min,:i]=np.nan  #Replace with NA\n",
    "    wind_hum.loc[wind_hum.loc[:,i]>max,:i]=np.nan  #Replace with NA\n",
    "    \n",
    "#Imputating the outliers by mean Imputation\n",
    "wind_hum['windspeed']=wind_hum['windspeed'].fillna(wind_hum['windspeed'].mean())\n",
    "wind_hum['humidity']=wind_hum['humidity'].fillna(wind_hum['humidity'].mean())\n",
    "\n",
    "#Replacing the imputated windspeed\n",
    "df['windspeed']= df['windspeed'].replace(wind_hum['windspeed'])\n",
    "#Replacing the imputated humidity\n",
    "df['humidity']= df['humidity'].replace(wind_hum['humidity'])\n",
    "df.head(5)"
   ]
  },
  {
   "cell_type": "markdown",
   "metadata": {},
   "source": [
    "### Split the dataset into train and test"
   ]
  },
  {
   "cell_type": "code",
   "execution_count": 18,
   "metadata": {},
   "outputs": [
    {
     "name": "stdout",
     "output_type": "stream",
     "text": [
      "(511, 11) (220, 11) (511, 2) (220, 2)\n",
      "    datetime  total_count\n",
      "0 2011-01-01          985\n",
      "1 2011-01-02          801\n",
      "2 2011-01-03         1349\n",
      "3 2011-01-04         1562\n",
      "4 2011-01-05         1600\n",
      "    datetime  total_count\n",
      "0 2012-05-26         6536\n",
      "1 2012-05-27         6591\n",
      "2 2012-05-28         6043\n",
      "3 2012-05-29         5743\n",
      "4 2012-05-30         6855\n"
     ]
    }
   ],
   "source": [
    "# Split the dataset into train and test in 70:30 ratio\n",
    "train_set = df[:int(len(df)*0.7)]\n",
    "test_set = df[int(len(df)*0.7):]\n",
    "\n",
    "X_train, Y_train = train_set.iloc[:,0:-1], train_set.iloc[:,-1]\n",
    "X_test, Y_test = test_set.iloc[:,0:-1], test_set.iloc[:,-1]\n",
    "\n",
    "#Reset train index values\n",
    "X_train.reset_index(inplace=True)\n",
    "Y_train=Y_train.reset_index()\n",
    "\n",
    "# Reset train index values\n",
    "X_test.reset_index(inplace=True)\n",
    "Y_test=Y_test.reset_index()\n",
    "\n",
    "print(X_train.shape,X_test.shape,Y_train.shape,Y_test.shape)\n",
    "print(Y_train.head())\n",
    "print(Y_test.head())"
   ]
  },
  {
   "cell_type": "markdown",
   "metadata": {},
   "source": [
    "## Encode train and test dataset"
   ]
  },
  {
   "cell_type": "code",
   "execution_count": 19,
   "metadata": {},
   "outputs": [],
   "source": [
    "#Create a new dataset for train attributes\n",
    "train_attributes=X_train[['season','month','year','weekday','holiday','workingday','weather_condition','humidity','atemp','windspeed']]\n",
    "#Create a new dataset for test attributes\n",
    "test_attributes=X_test[['season','month','year','weekday','holiday','workingday','humidity','atemp','windspeed','weather_condition']]\n",
    "#categorical attributes\n",
    "cat_attributes=['season','holiday','workingday','weather_condition','year']\n",
    "#numerical attributes\n",
    "num_attributes=['atemp','windspeed','humidity','month','weekday']"
   ]
  },
  {
   "cell_type": "code",
   "execution_count": 20,
   "metadata": {},
   "outputs": [
    {
     "name": "stdout",
     "output_type": "stream",
     "text": [
      "Shape of transfomed dataframe:: (511, 18)\n"
     ]
    },
    {
     "data": {
      "text/html": [
       "<div>\n",
       "<style scoped>\n",
       "    .dataframe tbody tr th:only-of-type {\n",
       "        vertical-align: middle;\n",
       "    }\n",
       "\n",
       "    .dataframe tbody tr th {\n",
       "        vertical-align: top;\n",
       "    }\n",
       "\n",
       "    .dataframe thead th {\n",
       "        text-align: right;\n",
       "    }\n",
       "</style>\n",
       "<table border=\"1\" class=\"dataframe\">\n",
       "  <thead>\n",
       "    <tr style=\"text-align: right;\">\n",
       "      <th></th>\n",
       "      <th>month</th>\n",
       "      <th>weekday</th>\n",
       "      <th>humidity</th>\n",
       "      <th>atemp</th>\n",
       "      <th>windspeed</th>\n",
       "      <th>season_1</th>\n",
       "      <th>season_2</th>\n",
       "      <th>season_3</th>\n",
       "      <th>season_4</th>\n",
       "      <th>holiday_0</th>\n",
       "      <th>holiday_1</th>\n",
       "      <th>workingday_0</th>\n",
       "      <th>workingday_1</th>\n",
       "      <th>weather_condition_1</th>\n",
       "      <th>weather_condition_2</th>\n",
       "      <th>weather_condition_3</th>\n",
       "      <th>year_0</th>\n",
       "      <th>year_1</th>\n",
       "    </tr>\n",
       "  </thead>\n",
       "  <tbody>\n",
       "    <tr>\n",
       "      <th>0</th>\n",
       "      <td>1</td>\n",
       "      <td>6</td>\n",
       "      <td>0.805833</td>\n",
       "      <td>0.363625</td>\n",
       "      <td>0.160446</td>\n",
       "      <td>1</td>\n",
       "      <td>0</td>\n",
       "      <td>0</td>\n",
       "      <td>0</td>\n",
       "      <td>1</td>\n",
       "      <td>0</td>\n",
       "      <td>1</td>\n",
       "      <td>0</td>\n",
       "      <td>0</td>\n",
       "      <td>1</td>\n",
       "      <td>0</td>\n",
       "      <td>1</td>\n",
       "      <td>0</td>\n",
       "    </tr>\n",
       "    <tr>\n",
       "      <th>1</th>\n",
       "      <td>1</td>\n",
       "      <td>0</td>\n",
       "      <td>0.696087</td>\n",
       "      <td>0.353739</td>\n",
       "      <td>0.248539</td>\n",
       "      <td>1</td>\n",
       "      <td>0</td>\n",
       "      <td>0</td>\n",
       "      <td>0</td>\n",
       "      <td>1</td>\n",
       "      <td>0</td>\n",
       "      <td>1</td>\n",
       "      <td>0</td>\n",
       "      <td>0</td>\n",
       "      <td>1</td>\n",
       "      <td>0</td>\n",
       "      <td>1</td>\n",
       "      <td>0</td>\n",
       "    </tr>\n",
       "    <tr>\n",
       "      <th>2</th>\n",
       "      <td>1</td>\n",
       "      <td>1</td>\n",
       "      <td>0.437273</td>\n",
       "      <td>0.189405</td>\n",
       "      <td>0.248309</td>\n",
       "      <td>1</td>\n",
       "      <td>0</td>\n",
       "      <td>0</td>\n",
       "      <td>0</td>\n",
       "      <td>1</td>\n",
       "      <td>0</td>\n",
       "      <td>0</td>\n",
       "      <td>1</td>\n",
       "      <td>1</td>\n",
       "      <td>0</td>\n",
       "      <td>0</td>\n",
       "      <td>1</td>\n",
       "      <td>0</td>\n",
       "    </tr>\n",
       "    <tr>\n",
       "      <th>3</th>\n",
       "      <td>1</td>\n",
       "      <td>2</td>\n",
       "      <td>0.590435</td>\n",
       "      <td>0.212122</td>\n",
       "      <td>0.160296</td>\n",
       "      <td>1</td>\n",
       "      <td>0</td>\n",
       "      <td>0</td>\n",
       "      <td>0</td>\n",
       "      <td>1</td>\n",
       "      <td>0</td>\n",
       "      <td>0</td>\n",
       "      <td>1</td>\n",
       "      <td>1</td>\n",
       "      <td>0</td>\n",
       "      <td>0</td>\n",
       "      <td>1</td>\n",
       "      <td>0</td>\n",
       "    </tr>\n",
       "    <tr>\n",
       "      <th>4</th>\n",
       "      <td>1</td>\n",
       "      <td>3</td>\n",
       "      <td>0.436957</td>\n",
       "      <td>0.229270</td>\n",
       "      <td>0.186900</td>\n",
       "      <td>1</td>\n",
       "      <td>0</td>\n",
       "      <td>0</td>\n",
       "      <td>0</td>\n",
       "      <td>1</td>\n",
       "      <td>0</td>\n",
       "      <td>0</td>\n",
       "      <td>1</td>\n",
       "      <td>1</td>\n",
       "      <td>0</td>\n",
       "      <td>0</td>\n",
       "      <td>1</td>\n",
       "      <td>0</td>\n",
       "    </tr>\n",
       "  </tbody>\n",
       "</table>\n",
       "</div>"
      ],
      "text/plain": [
       "  month weekday  humidity     atemp  windspeed  season_1  season_2  season_3  \\\n",
       "0     1       6  0.805833  0.363625   0.160446         1         0         0   \n",
       "1     1       0  0.696087  0.353739   0.248539         1         0         0   \n",
       "2     1       1  0.437273  0.189405   0.248309         1         0         0   \n",
       "3     1       2  0.590435  0.212122   0.160296         1         0         0   \n",
       "4     1       3  0.436957  0.229270   0.186900         1         0         0   \n",
       "\n",
       "   season_4  holiday_0  holiday_1  workingday_0  workingday_1  \\\n",
       "0         0          1          0             1             0   \n",
       "1         0          1          0             1             0   \n",
       "2         0          1          0             0             1   \n",
       "3         0          1          0             0             1   \n",
       "4         0          1          0             0             1   \n",
       "\n",
       "   weather_condition_1  weather_condition_2  weather_condition_3  year_0  \\\n",
       "0                    0                    1                    0       1   \n",
       "1                    0                    1                    0       1   \n",
       "2                    1                    0                    0       1   \n",
       "3                    1                    0                    0       1   \n",
       "4                    1                    0                    0       1   \n",
       "\n",
       "   year_1  \n",
       "0       0  \n",
       "1       0  \n",
       "2       0  \n",
       "3       0  \n",
       "4       0  "
      ]
     },
     "execution_count": 20,
     "metadata": {},
     "output_type": "execute_result"
    }
   ],
   "source": [
    "train_encoded_attributes=pd.get_dummies(train_attributes,columns=cat_attributes)\n",
    "print('Shape of transfomed dataframe::',train_encoded_attributes.shape)\n",
    "train_encoded_attributes.head(5)"
   ]
  },
  {
   "cell_type": "code",
   "execution_count": 21,
   "metadata": {},
   "outputs": [],
   "source": [
    "X_train=train_encoded_attributes\n",
    "Y_train=Y_train.total_count.values"
   ]
  },
  {
   "cell_type": "markdown",
   "metadata": {},
   "source": [
    "## Encode test dataset"
   ]
  },
  {
   "cell_type": "code",
   "execution_count": 22,
   "metadata": {},
   "outputs": [
    {
     "name": "stdout",
     "output_type": "stream",
     "text": [
      "Shape of transformed dataframe : (220, 18)\n"
     ]
    },
    {
     "data": {
      "text/html": [
       "<div>\n",
       "<style scoped>\n",
       "    .dataframe tbody tr th:only-of-type {\n",
       "        vertical-align: middle;\n",
       "    }\n",
       "\n",
       "    .dataframe tbody tr th {\n",
       "        vertical-align: top;\n",
       "    }\n",
       "\n",
       "    .dataframe thead th {\n",
       "        text-align: right;\n",
       "    }\n",
       "</style>\n",
       "<table border=\"1\" class=\"dataframe\">\n",
       "  <thead>\n",
       "    <tr style=\"text-align: right;\">\n",
       "      <th></th>\n",
       "      <th>month</th>\n",
       "      <th>weekday</th>\n",
       "      <th>humidity</th>\n",
       "      <th>atemp</th>\n",
       "      <th>windspeed</th>\n",
       "      <th>season_1</th>\n",
       "      <th>season_2</th>\n",
       "      <th>season_3</th>\n",
       "      <th>season_4</th>\n",
       "      <th>holiday_0</th>\n",
       "      <th>holiday_1</th>\n",
       "      <th>workingday_0</th>\n",
       "      <th>workingday_1</th>\n",
       "      <th>weather_condition_1</th>\n",
       "      <th>weather_condition_2</th>\n",
       "      <th>weather_condition_3</th>\n",
       "      <th>year_0</th>\n",
       "      <th>year_1</th>\n",
       "    </tr>\n",
       "  </thead>\n",
       "  <tbody>\n",
       "    <tr>\n",
       "      <th>0</th>\n",
       "      <td>5</td>\n",
       "      <td>6</td>\n",
       "      <td>0.732500</td>\n",
       "      <td>0.642696</td>\n",
       "      <td>0.198992</td>\n",
       "      <td>0</td>\n",
       "      <td>1</td>\n",
       "      <td>0</td>\n",
       "      <td>0</td>\n",
       "      <td>1</td>\n",
       "      <td>0</td>\n",
       "      <td>1</td>\n",
       "      <td>0</td>\n",
       "      <td>1</td>\n",
       "      <td>0</td>\n",
       "      <td>0</td>\n",
       "      <td>0</td>\n",
       "      <td>1</td>\n",
       "    </tr>\n",
       "    <tr>\n",
       "      <th>1</th>\n",
       "      <td>5</td>\n",
       "      <td>0</td>\n",
       "      <td>0.697083</td>\n",
       "      <td>0.641425</td>\n",
       "      <td>0.215171</td>\n",
       "      <td>0</td>\n",
       "      <td>1</td>\n",
       "      <td>0</td>\n",
       "      <td>0</td>\n",
       "      <td>1</td>\n",
       "      <td>0</td>\n",
       "      <td>1</td>\n",
       "      <td>0</td>\n",
       "      <td>1</td>\n",
       "      <td>0</td>\n",
       "      <td>0</td>\n",
       "      <td>0</td>\n",
       "      <td>1</td>\n",
       "    </tr>\n",
       "    <tr>\n",
       "      <th>2</th>\n",
       "      <td>5</td>\n",
       "      <td>1</td>\n",
       "      <td>0.676250</td>\n",
       "      <td>0.679300</td>\n",
       "      <td>0.196521</td>\n",
       "      <td>0</td>\n",
       "      <td>1</td>\n",
       "      <td>0</td>\n",
       "      <td>0</td>\n",
       "      <td>0</td>\n",
       "      <td>1</td>\n",
       "      <td>1</td>\n",
       "      <td>0</td>\n",
       "      <td>1</td>\n",
       "      <td>0</td>\n",
       "      <td>0</td>\n",
       "      <td>0</td>\n",
       "      <td>1</td>\n",
       "    </tr>\n",
       "    <tr>\n",
       "      <th>3</th>\n",
       "      <td>5</td>\n",
       "      <td>2</td>\n",
       "      <td>0.684583</td>\n",
       "      <td>0.672992</td>\n",
       "      <td>0.295400</td>\n",
       "      <td>0</td>\n",
       "      <td>1</td>\n",
       "      <td>0</td>\n",
       "      <td>0</td>\n",
       "      <td>1</td>\n",
       "      <td>0</td>\n",
       "      <td>0</td>\n",
       "      <td>1</td>\n",
       "      <td>1</td>\n",
       "      <td>0</td>\n",
       "      <td>0</td>\n",
       "      <td>0</td>\n",
       "      <td>1</td>\n",
       "    </tr>\n",
       "    <tr>\n",
       "      <th>4</th>\n",
       "      <td>5</td>\n",
       "      <td>3</td>\n",
       "      <td>0.670000</td>\n",
       "      <td>0.611129</td>\n",
       "      <td>0.134329</td>\n",
       "      <td>0</td>\n",
       "      <td>1</td>\n",
       "      <td>0</td>\n",
       "      <td>0</td>\n",
       "      <td>1</td>\n",
       "      <td>0</td>\n",
       "      <td>0</td>\n",
       "      <td>1</td>\n",
       "      <td>0</td>\n",
       "      <td>1</td>\n",
       "      <td>0</td>\n",
       "      <td>0</td>\n",
       "      <td>1</td>\n",
       "    </tr>\n",
       "  </tbody>\n",
       "</table>\n",
       "</div>"
      ],
      "text/plain": [
       "  month weekday  humidity     atemp  windspeed  season_1  season_2  season_3  \\\n",
       "0     5       6  0.732500  0.642696   0.198992         0         1         0   \n",
       "1     5       0  0.697083  0.641425   0.215171         0         1         0   \n",
       "2     5       1  0.676250  0.679300   0.196521         0         1         0   \n",
       "3     5       2  0.684583  0.672992   0.295400         0         1         0   \n",
       "4     5       3  0.670000  0.611129   0.134329         0         1         0   \n",
       "\n",
       "   season_4  holiday_0  holiday_1  workingday_0  workingday_1  \\\n",
       "0         0          1          0             1             0   \n",
       "1         0          1          0             1             0   \n",
       "2         0          0          1             1             0   \n",
       "3         0          1          0             0             1   \n",
       "4         0          1          0             0             1   \n",
       "\n",
       "   weather_condition_1  weather_condition_2  weather_condition_3  year_0  \\\n",
       "0                    1                    0                    0       0   \n",
       "1                    1                    0                    0       0   \n",
       "2                    1                    0                    0       0   \n",
       "3                    1                    0                    0       0   \n",
       "4                    0                    1                    0       0   \n",
       "\n",
       "   year_1  \n",
       "0       1  \n",
       "1       1  \n",
       "2       1  \n",
       "3       1  \n",
       "4       1  "
      ]
     },
     "execution_count": 22,
     "metadata": {},
     "output_type": "execute_result"
    }
   ],
   "source": [
    "#To get dummy variables to encode the categorical features to numeric\n",
    "test_encoded_attributes=pd.get_dummies(test_attributes,columns=cat_attributes)\n",
    "print('Shape of transformed dataframe :',test_encoded_attributes.shape)\n",
    "test_encoded_attributes.head(5)"
   ]
  },
  {
   "cell_type": "code",
   "execution_count": 23,
   "metadata": {},
   "outputs": [],
   "source": [
    "#Test dataset for prediction\n",
    "X_test=test_encoded_attributes\n",
    "Y_test=Y_test.total_count.values"
   ]
  },
  {
   "cell_type": "markdown",
   "metadata": {},
   "source": [
    "## Error metric - MAPE (Mean Absolute Percentage Error)"
   ]
  },
  {
   "cell_type": "code",
   "execution_count": 24,
   "metadata": {},
   "outputs": [],
   "source": [
    "def mean_absolute_percentage_error(y_true, y_pred): \n",
    "    y_true, y_pred = np.array(y_true), np.array(y_pred)\n",
    "    return np.mean(np.abs((y_true - y_pred) / y_true)) * 100"
   ]
  },
  {
   "cell_type": "markdown",
   "metadata": {},
   "source": [
    "## Model training: We train 2 models - RandomForest and XGBoost"
   ]
  },
  {
   "cell_type": "markdown",
   "metadata": {},
   "source": [
    "### Model 1: Random Forest"
   ]
  },
  {
   "cell_type": "code",
   "execution_count": 25,
   "metadata": {},
   "outputs": [],
   "source": [
    "# Define the model\n",
    "rf_model=RandomForestRegressor(n_estimators=200)"
   ]
  },
  {
   "cell_type": "code",
   "execution_count": 26,
   "metadata": {},
   "outputs": [
    {
     "data": {
      "text/plain": [
       "RandomForestRegressor(n_estimators=200)"
      ]
     },
     "execution_count": 26,
     "metadata": {},
     "output_type": "execute_result"
    }
   ],
   "source": [
    "# Fit the model\n",
    "rf_model.fit(X_train,Y_train)"
   ]
  },
  {
   "cell_type": "code",
   "execution_count": 27,
   "metadata": {},
   "outputs": [
    {
     "name": "stdout",
     "output_type": "stream",
     "text": [
      "Accuracy of the model : 0.9794792347733395\n"
     ]
    }
   ],
   "source": [
    "#Accuracy of the model\n",
    "rf=rf_model.score(X_train,Y_train)\n",
    "print('Accuracy of the model :',rf)"
   ]
  },
  {
   "cell_type": "code",
   "execution_count": 28,
   "metadata": {},
   "outputs": [],
   "source": [
    "rf_pred = rf_model.predict(X_test)"
   ]
  },
  {
   "cell_type": "markdown",
   "metadata": {},
   "source": [
    "### Performace of the model"
   ]
  },
  {
   "cell_type": "code",
   "execution_count": 29,
   "metadata": {},
   "outputs": [
    {
     "name": "stdout",
     "output_type": "stream",
     "text": [
      "Root mean square error : 1153.1081829682312\n",
      "Mean absolute error : 959.5229772727274\n",
      "Mean Absolute percentage error : 118.4128933991837\n"
     ]
    }
   ],
   "source": [
    "import math\n",
    "#Root mean square error \n",
    "rmse=math.sqrt(metrics.mean_squared_error(Y_test,rf_pred))\n",
    "#Mean absolute error\n",
    "mae=metrics.mean_absolute_error(Y_test,rf_pred)\n",
    "mape = mean_absolute_percentage_error(Y_test, rf_pred)\n",
    "print('Root mean square error :',rmse)\n",
    "print('Mean absolute error :',mae)\n",
    "print('Mean Absolute percentage error :', mape)"
   ]
  },
  {
   "cell_type": "code",
   "execution_count": 30,
   "metadata": {},
   "outputs": [],
   "source": [
    "results_df_rf = test_set['total_count'].to_frame()\n",
    "results_df_rf.rename(columns={'total_count':'Observed'}, inplace=True)\n",
    "results_df_rf['prediction'] = rf_model.predict(X_test)"
   ]
  },
  {
   "cell_type": "code",
   "execution_count": 31,
   "metadata": {},
   "outputs": [
    {
     "data": {
      "text/plain": [
       "<AxesSubplot:title={'center':'Random Forest forecasting'}, xlabel='Time', ylabel='Bike count'>"
      ]
     },
     "execution_count": 31,
     "metadata": {},
     "output_type": "execute_result"
    },
    {
     "data": {
      "image/png": "[encoded data removed]",
      "text/plain": [
       "<Figure size 432x288 with 1 Axes>"
      ]
     },
     "metadata": {
      "needs_background": "light"
     },
     "output_type": "display_data"
    }
   ],
   "source": [
    "results_df_rf.plot(ylabel='Bike count', xlabel='Time', title='Random Forest forecasting')"
   ]
  },
  {
   "cell_type": "markdown",
   "metadata": {},
   "source": [
    "### XGBoost"
   ]
  },
  {
   "cell_type": "markdown",
   "metadata": {},
   "source": [
    "#### Model 2: Vanila XGB"
   ]
  },
  {
   "cell_type": "code",
   "execution_count": 32,
   "metadata": {},
   "outputs": [],
   "source": [
    "xgb_model = xgb.XGBRegressor(n_estimators=1000)"
   ]
  },
  {
   "cell_type": "code",
   "execution_count": 33,
   "metadata": {},
   "outputs": [
    {
     "data": {
      "text/plain": [
       "XGBRegressor(base_score=0.5, booster='gbtree', colsample_bylevel=1,\n",
       "             colsample_bynode=1, colsample_bytree=1, gamma=0, gpu_id=-1,\n",
       "             importance_type='gain', interaction_constraints='',\n",
       "             learning_rate=0.300000012, max_delta_step=0, max_depth=6,\n",
       "             min_child_weight=1, missing=nan, monotone_constraints='()',\n",
       "             n_estimators=1000, n_jobs=0, num_parallel_tree=1, random_state=0,\n",
       "             reg_alpha=0, reg_lambda=1, scale_pos_weight=1, subsample=1,\n",
       "             tree_method='exact', validate_parameters=1, verbosity=None)"
      ]
     },
     "execution_count": 33,
     "metadata": {},
     "output_type": "execute_result"
    }
   ],
   "source": [
    "for col in ['month', 'weekday']:\n",
    "    X_train[col] = X_train[col].astype('int64')\n",
    "xgb_model.fit(X_train, Y_train, verbose=False)"
   ]
  },
  {
   "cell_type": "markdown",
   "metadata": {},
   "source": [
    "### Feature importance: We find that humidity, atemp and windspeed are the most important features "
   ]
  },
  {
   "cell_type": "code",
   "execution_count": 35,
   "metadata": {},
   "outputs": [
    {
     "data": {
      "image/png": "[encoded data removed]",
      "text/plain": [
       "<Figure size 432x288 with 1 Axes>"
      ]
     },
     "metadata": {
      "needs_background": "light"
     },
     "output_type": "display_data"
    }
   ],
   "source": [
    "_ = plot_importance(xgb_model, height=0.9)"
   ]
  },
  {
   "cell_type": "code",
   "execution_count": 36,
   "metadata": {},
   "outputs": [
    {
     "name": "stdout",
     "output_type": "stream",
     "text": [
      "Accuracy of the model : 0.9999999999991533\n"
     ]
    }
   ],
   "source": [
    "#Accuracy of the model\n",
    "xg = xgb_model.score(X_train,Y_train)\n",
    "print('Accuracy of the model :', xg)"
   ]
  },
  {
   "cell_type": "code",
   "execution_count": 37,
   "metadata": {},
   "outputs": [],
   "source": [
    "for col in ['month', 'weekday']:\n",
    "    X_test[col] = X_test[col].astype('int64')\n",
    "xgb_pred = xgb_model.predict(X_test)"
   ]
  },
  {
   "cell_type": "markdown",
   "metadata": {},
   "source": [
    "### Performance of the model"
   ]
  },
  {
   "cell_type": "code",
   "execution_count": 38,
   "metadata": {},
   "outputs": [
    {
     "name": "stdout",
     "output_type": "stream",
     "text": [
      "Root mean square error : 1126.5874867148123\n",
      "Mean absolute error : 939.8571999289773\n",
      "Mean Absolute percentage error : 105.5961206072944\n"
     ]
    }
   ],
   "source": [
    "import math\n",
    "#Root mean square error \n",
    "rmse=math.sqrt(metrics.mean_squared_error(Y_test,xgb_pred))\n",
    "#Mean absolute error\n",
    "mae=metrics.mean_absolute_error(Y_test,xgb_pred)\n",
    "mape = mean_absolute_percentage_error(Y_test, xgb_pred)\n",
    "print('Root mean square error :',rmse)\n",
    "print('Mean absolute error :',mae)\n",
    "print('Mean Absolute percentage error :', mape)"
   ]
  },
  {
   "cell_type": "code",
   "execution_count": 39,
   "metadata": {},
   "outputs": [],
   "source": [
    "results_df_xgb = test_set['total_count'].to_frame()\n",
    "results_df_xgb.rename(columns={'total_count':'Observed'}, inplace=True)\n",
    "results_df_xgb['prediction'] = xgb_model.predict(X_test)"
   ]
  },
  {
   "cell_type": "code",
   "execution_count": 40,
   "metadata": {},
   "outputs": [
    {
     "data": {
      "text/plain": [
       "<AxesSubplot:title={'center':'XGBoost forecasting'}, xlabel='Time', ylabel='Bike count'>"
      ]
     },
     "execution_count": 40,
     "metadata": {},
     "output_type": "execute_result"
    },
    {
     "data": {
      "image/png": "[encoded data removed]",
      "text/plain": [
       "<Figure size 432x288 with 1 Axes>"
      ]
     },
     "metadata": {
      "needs_background": "light"
     },
     "output_type": "display_data"
    }
   ],
   "source": [
    "results_df_xgb.plot(ylabel='Bike count', xlabel='Time', title='XGBoost forecasting')"
   ]
  },
  {
   "cell_type": "markdown",
   "metadata": {},
   "source": [
    "### Model 3: Optimized XGBoost (using Hyperparameter optimization)"
   ]
  },
  {
   "cell_type": "code",
   "execution_count": 41,
   "metadata": {},
   "outputs": [
    {
     "name": "stdout",
     "output_type": "stream",
     "text": [
      "Fitting 7 folds for each of 500 candidates, totalling 3500 fits\n"
     ]
    },
    {
     "name": "stderr",
     "output_type": "stream",
     "text": [
      "[Parallel(n_jobs=6)]: Using backend LokyBackend with 6 concurrent workers.\n",
      "[Parallel(n_jobs=6)]: Done   6 tasks      | elapsed:    3.0s\n",
      "[Parallel(n_jobs=6)]: Done  60 tasks      | elapsed:    4.2s\n",
      "[Parallel(n_jobs=6)]: Done 192 tasks      | elapsed:    7.0s\n",
      "[Parallel(n_jobs=6)]: Done 444 tasks      | elapsed:   12.8s\n",
      "[Parallel(n_jobs=6)]: Done 768 tasks      | elapsed:   20.3s\n",
      "[Parallel(n_jobs=6)]: Done 1164 tasks      | elapsed:   28.8s\n",
      "[Parallel(n_jobs=6)]: Done 1632 tasks      | elapsed:   40.4s\n",
      "[Parallel(n_jobs=6)]: Done 2172 tasks      | elapsed:   54.1s\n",
      "[Parallel(n_jobs=6)]: Done 2784 tasks      | elapsed:  1.2min\n",
      "[Parallel(n_jobs=6)]: Done 3468 tasks      | elapsed:  1.5min\n",
      "[Parallel(n_jobs=6)]: Done 3500 out of 3500 | elapsed:  1.5min finished\n"
     ]
    },
    {
     "name": "stdout",
     "output_type": "stream",
     "text": [
      "[13:42:23] WARNING: /Users/travis/build/dmlc/xgboost/src/learner.cc:516: \n",
      "Parameters: { num_leaves } might not be used.\n",
      "\n",
      "  This may not be accurate due to some parameters are only used in language bindings but\n",
      "  passed down to XGBoost core.  Or some parameters are not used but slip through this\n",
      "  verification. Please open an issue if you find above cases.\n",
      "\n",
      "\n"
     ]
    },
    {
     "data": {
      "text/plain": [
       "RandomizedSearchCV(cv=TimeSeriesSplit(max_train_size=None, n_splits=7),\n",
       "                   estimator=XGBRegressor(base_score=None, booster=None,\n",
       "                                          colsample_bylevel=None,\n",
       "                                          colsample_bynode=None,\n",
       "                                          colsample_bytree=None, gamma=None,\n",
       "                                          gpu_id=None, importance_type='gain',\n",
       "                                          interaction_constraints=None,\n",
       "                                          learning_rate=None,\n",
       "                                          max_delta_step=None, max_depth=None,\n",
       "                                          min_child_weight=None, missing=na...\n",
       "                                          validate_parameters=None,\n",
       "                                          verbosity=None),\n",
       "                   n_iter=500, n_jobs=6,\n",
       "                   param_distributions={'colsample_bytree': [0.9, 0.95, 1.0],\n",
       "                                        'gamma': [0, 0.1, 0.5, 1.5],\n",
       "                                        'learning_rate': [0.01, 0.05, 0.1,\n",
       "                                                          0.15],\n",
       "                                        'max_depth': [3, 4, 5, 10, 25],\n",
       "                                        'min_child_weight': [1, 2, 5],\n",
       "                                        'n_estimators': [50, 100, 150],\n",
       "                                        'num_leaves': [50, 100, 200],\n",
       "                                        'subsample': [0.6, 0.8, 1.0]},\n",
       "                   random_state=666, scoring='neg_mean_absolute_error',\n",
       "                   verbose=5)"
      ]
     },
     "execution_count": 41,
     "metadata": {},
     "output_type": "execute_result"
    }
   ],
   "source": [
    "tscv = TimeSeriesSplit(n_splits=7)\n",
    "\n",
    "param_dist = {\n",
    "    \"max_depth\": [3, 4, 5, 10, 25],\n",
    "    \"learning_rate\": [0.01, 0.05, 0.1, 0.15],\n",
    "    \"num_leaves\": [50, 100, 200],\n",
    "    \"n_estimators\": [50, 100, 150],\n",
    "    'min_child_weight': [1, 2, 5],\n",
    "    'gamma': [0, 0.1, 0.5, 1.5],\n",
    "    'subsample': [0.6, 0.8, 1.0],\n",
    "    'colsample_bytree': [0.9, 0.95, 1.0],\n",
    "}\n",
    "xgb_rgs = XGBRegressor(random_state=666)\n",
    "xgb_gs = RandomizedSearchCV(xgb_rgs, \n",
    "                           n_jobs=6, \n",
    "                           n_iter=500,\n",
    "                           param_distributions=param_dist, \n",
    "                           cv = tscv, \n",
    "                           scoring=\"neg_mean_absolute_error\", \n",
    "                           verbose=5, random_state=666)\n",
    "xgb_gs.fit(X_train, Y_train)"
   ]
  },
  {
   "cell_type": "code",
   "execution_count": 42,
   "metadata": {},
   "outputs": [],
   "source": [
    "for col in ['month', 'weekday']:\n",
    "    X_test[col] = X_test[col].astype('int64')\n",
    "xgbgs_pred = xgb_gs.predict(X_test)"
   ]
  },
  {
   "cell_type": "markdown",
   "metadata": {},
   "source": [
    "### Performance of the model"
   ]
  },
  {
   "cell_type": "code",
   "execution_count": 43,
   "metadata": {},
   "outputs": [
    {
     "name": "stdout",
     "output_type": "stream",
     "text": [
      "Root mean square error : 948.4009891299273\n",
      "Mean absolute error : 781.1745133833451\n",
      "Mean Absolute percentage error : 74.46629165921614\n"
     ]
    }
   ],
   "source": [
    "import math\n",
    "#Root mean square error \n",
    "rmse=math.sqrt(metrics.mean_squared_error(Y_test,xgbgs_pred))\n",
    "#Mean absolute error\n",
    "mae=metrics.mean_absolute_error(Y_test,xgbgs_pred)\n",
    "mape = mean_absolute_percentage_error(Y_test, xgbgs_pred)\n",
    "print('Root mean square error :',rmse)\n",
    "print('Mean absolute error :',mae)\n",
    "print('Mean Absolute percentage error :', mape)"
   ]
  },
  {
   "cell_type": "markdown",
   "metadata": {},
   "source": [
    "## Comparing models 1, 2, and 3, we find that the RMSE score for model 3 is the lowest and hence we choose this model as our final model"
   ]
  },
  {
   "cell_type": "markdown",
   "metadata": {},
   "source": [
    "### Save this model as final model"
   ]
  },
  {
   "cell_type": "code",
   "execution_count": 45,
   "metadata": {},
   "outputs": [
    {
     "data": {
      "text/plain": [
       "['ml.model']"
      ]
     },
     "execution_count": 45,
     "metadata": {},
     "output_type": "execute_result"
    }
   ],
   "source": [
    "joblib.dump(xgb_gs, 'ml.model')"
   ]
  },
  {
   "cell_type": "code",
   "execution_count": 46,
   "metadata": {},
   "outputs": [],
   "source": [
    "results_df_xgb_bs = test_set['total_count'].to_frame()\n",
    "results_df_xgb_bs.rename(columns={'total_count':'Observed'}, inplace=True)\n",
    "results_df_xgb_bs['prediction'] = xgb_gs.predict(X_test)"
   ]
  },
  {
   "cell_type": "code",
   "execution_count": 47,
   "metadata": {},
   "outputs": [
    {
     "data": {
      "text/plain": [
       "<AxesSubplot:title={'center':'XGBoost (Optimized) forecasting'}, xlabel='Time', ylabel='Bike count'>"
      ]
     },
     "execution_count": 47,
     "metadata": {},
     "output_type": "execute_result"
    },
    {
     "data": {
      "image/png": "[encoded data removed]",
      "text/plain": [
       "<Figure size 432x288 with 1 Axes>"
      ]
     },
     "metadata": {
      "needs_background": "light"
     },
     "output_type": "display_data"
    }
   ],
   "source": [
    "results_df_xgb_bs.plot(ylabel='Bike count', xlabel='Time', title='XGBoost (Optimized) forecasting')"
   ]
  },
  {
   "cell_type": "markdown",
   "metadata": {},
   "source": [
    "# Forecast: Run the model on unseen data and predict the bike demand "
   ]
  },
  {
   "cell_type": "markdown",
   "metadata": {},
   "source": [
    "## In this example, I've tried to predict the bike demand for the first 3 months of 2013. \n",
    "### Note: I've created a synthetic dataset from previous data to create the new dataset"
   ]
  },
  {
   "cell_type": "code",
   "execution_count": 50,
   "metadata": {},
   "outputs": [],
   "source": [
    "n_steps = 90 # No. of days\n",
    "seasonal = 366\n",
    "forecast_raw_data = X_train[seasonal:seasonal+n_steps]"
   ]
  },
  {
   "cell_type": "code",
   "execution_count": 51,
   "metadata": {},
   "outputs": [],
   "source": [
    "X_forecast = xgb_model.predict(forecast_raw_data)"
   ]
  },
  {
   "cell_type": "code",
   "execution_count": 52,
   "metadata": {},
   "outputs": [
    {
     "data": {
      "text/plain": [
       "array([1951.0006, 2236.0002, 2367.999 , 3272.0027, 4097.9995, 4521.    ,\n",
       "       3424.999 , 2375.999 , 3598.0024, 2176.9998, 4096.999 , 3214.    ,\n",
       "       2493.0002, 2310.9998, 2298.    , 2935.    , 3376.0007, 3291.9998,\n",
       "       3163.001 , 1301.0001, 1976.9998, 2432.    , 4339.0005, 4269.9966,\n",
       "       4074.9993, 3455.9998, 4023.    , 3243.001 , 3623.999 , 4508.9995,\n",
       "       4579.0044, 3761.0024, 4150.998 , 2832.0002, 2946.9998, 3784.0015,\n",
       "       4374.9995, 2801.9985, 3830.001 , 3831.    , 2168.9995, 1529.0001,\n",
       "       3421.9998, 3921.9993, 4168.9995, 3004.9993, 4154.    , 4318.0005,\n",
       "       2689.0005, 3128.9976, 3776.9995, 4772.9995, 5061.996 , 3487.0022,\n",
       "       2732.0002, 3389.0012, 4321.999 , 4363.0005, 1834.0035, 4989.9995,\n",
       "       3194.0046, 4066.    , 3422.9995, 3333.001 , 3955.998 , 4916.0005,\n",
       "       5382.0005, 4569.0005, 4118.    , 4911.0015, 5298.001 , 5846.999 ,\n",
       "       6312.    , 6191.9966, 4377.999 , 7836.    , 5892.001 , 6153.0005,\n",
       "       6093.001 , 6230.001 , 6871.001 , 8362.001 , 3371.9998, 4996.    ,\n",
       "       5557.999 , 5101.999 , 5697.9995, 6133.001 , 5458.999 , 6234.998 ],\n",
       "      dtype=float32)"
      ]
     },
     "execution_count": 52,
     "metadata": {},
     "output_type": "execute_result"
    }
   ],
   "source": [
    "X_forecast"
   ]
  },
  {
   "cell_type": "markdown",
   "metadata": {},
   "source": [
    "# Forecast plot"
   ]
  },
  {
   "cell_type": "code",
   "execution_count": 53,
   "metadata": {},
   "outputs": [],
   "source": [
    "observed = np.append(df['total_count'].values, [np.nan for i in np.arange(90)])"
   ]
  },
  {
   "cell_type": "code",
   "execution_count": 54,
   "metadata": {},
   "outputs": [],
   "source": [
    "predicted = np.append([np.nan for i in np.arange(len(X_train))], xgbgs_pred)\n",
    "predicted = np.append(predicted, [np.nan for i in np.arange(90)])"
   ]
  },
  {
   "cell_type": "code",
   "execution_count": 55,
   "metadata": {},
   "outputs": [],
   "source": [
    "forecast = np.append([np.nan for i in np.arange(len(df))], X_forecast)"
   ]
  },
  {
   "cell_type": "code",
   "execution_count": 56,
   "metadata": {},
   "outputs": [
    {
     "data": {
      "text/plain": [
       "<AxesSubplot:title={'center':'Bike Sharing forecasting'}, xlabel='Time', ylabel='Bike count'>"
      ]
     },
     "execution_count": 56,
     "metadata": {},
     "output_type": "execute_result"
    },
    {
     "data": {
      "image/png": "[encoded data removed]",
      "text/plain": [
       "<Figure size 432x288 with 1 Axes>"
      ]
     },
     "metadata": {
      "needs_background": "light"
     },
     "output_type": "display_data"
    }
   ],
   "source": [
    "rng = pd.date_range(start='2011-01-01', periods=821, freq='D')\n",
    "final_df = pd.DataFrame({'datetime':rng, 'Observed':observed, 'Predicted': predicted, 'Forecast':forecast})\n",
    "final_df.set_index('datetime', inplace=True)\n",
    "final_df.plot(ylabel='Bike count', xlabel='Time', title='Bike Sharing forecasting')"
   ]
  }
 ],
 "metadata": {
  "kernelspec": {
   "display_name": "Python 3",
   "language": "python",
   "name": "python3"
  },
  "language_info": {
   "codemirror_mode": {
    "name": "ipython",
    "version": 3
   },
   "file_extension": ".py",
   "mimetype": "text/x-python",
   "name": "python",
   "nbconvert_exporter": "python",
   "pygments_lexer": "ipython3",
   "version": "3.7.3"
  }
 },
 "nbformat": 4,
 "nbformat_minor": 4
}
