{
 "cells": [
  {
   "cell_type": "markdown",
   "metadata": {},
   "source": [
    "# Load required libraries"
   ]
  },
  {
   "cell_type": "code",
   "execution_count": 21,
   "metadata": {},
   "outputs": [],
   "source": [
    "import math\n",
    "import numpy as np \n",
    "import pandas as pd\n",
    "import matplotlib.pyplot as plt\n",
    "import seaborn as sns\n",
    "from sklearn.model_selection import train_test_split\n",
    "import warnings\n",
    "warnings.filterwarnings('ignore')\n",
    "\n",
    "from sklearn import preprocessing,metrics,linear_model\n",
    "from sklearn.model_selection import cross_val_score,cross_val_predict,train_test_split, RandomizedSearchCV, TimeSeriesSplit\n",
    "from sklearn.ensemble import RandomForestRegressor\n",
    "from sklearn.preprocessing import MinMaxScaler\n",
    "import xgboost as xgb\n",
    "from xgboost import plot_importance\n",
    "from xgboost import XGBRegressor\n",
    "import scipy.stats as st\n",
    "from tqdm import tqdm_notebook as tqdm\n",
    "\n",
    "from keras.preprocessing import sequence\n",
    "from keras.models import Sequential\n",
    "from keras.layers import Dense, Dropout , LSTM , Bidirectional "
   ]
  },
  {
   "cell_type": "markdown",
   "metadata": {},
   "source": [
    "## Load the dataset: We use the hourly data for the DL approach since we our model will need more datapoints."
   ]
  },
  {
   "cell_type": "code",
   "execution_count": 5,
   "metadata": {},
   "outputs": [],
   "source": [
    "df = pd.read_csv('../dataset/hour.csv')"
   ]
  },
  {
   "cell_type": "markdown",
   "metadata": {},
   "source": [
    "## Data exploration"
   ]
  },
  {
   "cell_type": "code",
   "execution_count": 6,
   "metadata": {},
   "outputs": [
    {
     "data": {
      "text/html": [
       "<div>\n",
       "<style scoped>\n",
       "    .dataframe tbody tr th:only-of-type {\n",
       "        vertical-align: middle;\n",
       "    }\n",
       "\n",
       "    .dataframe tbody tr th {\n",
       "        vertical-align: top;\n",
       "    }\n",
       "\n",
       "    .dataframe thead th {\n",
       "        text-align: right;\n",
       "    }\n",
       "</style>\n",
       "<table border=\"1\" class=\"dataframe\">\n",
       "  <thead>\n",
       "    <tr style=\"text-align: right;\">\n",
       "      <th></th>\n",
       "      <th>instant</th>\n",
       "      <th>dteday</th>\n",
       "      <th>season</th>\n",
       "      <th>yr</th>\n",
       "      <th>mnth</th>\n",
       "      <th>hr</th>\n",
       "      <th>holiday</th>\n",
       "      <th>weekday</th>\n",
       "      <th>workingday</th>\n",
       "      <th>weathersit</th>\n",
       "      <th>temp</th>\n",
       "      <th>atemp</th>\n",
       "      <th>hum</th>\n",
       "      <th>windspeed</th>\n",
       "      <th>casual</th>\n",
       "      <th>registered</th>\n",
       "      <th>cnt</th>\n",
       "    </tr>\n",
       "  </thead>\n",
       "  <tbody>\n",
       "    <tr>\n",
       "      <th>0</th>\n",
       "      <td>1</td>\n",
       "      <td>2011-01-01</td>\n",
       "      <td>1</td>\n",
       "      <td>0</td>\n",
       "      <td>1</td>\n",
       "      <td>0</td>\n",
       "      <td>0</td>\n",
       "      <td>6</td>\n",
       "      <td>0</td>\n",
       "      <td>1</td>\n",
       "      <td>0.24</td>\n",
       "      <td>0.2879</td>\n",
       "      <td>0.81</td>\n",
       "      <td>0.0</td>\n",
       "      <td>3</td>\n",
       "      <td>13</td>\n",
       "      <td>16</td>\n",
       "    </tr>\n",
       "    <tr>\n",
       "      <th>1</th>\n",
       "      <td>2</td>\n",
       "      <td>2011-01-01</td>\n",
       "      <td>1</td>\n",
       "      <td>0</td>\n",
       "      <td>1</td>\n",
       "      <td>1</td>\n",
       "      <td>0</td>\n",
       "      <td>6</td>\n",
       "      <td>0</td>\n",
       "      <td>1</td>\n",
       "      <td>0.22</td>\n",
       "      <td>0.2727</td>\n",
       "      <td>0.80</td>\n",
       "      <td>0.0</td>\n",
       "      <td>8</td>\n",
       "      <td>32</td>\n",
       "      <td>40</td>\n",
       "    </tr>\n",
       "    <tr>\n",
       "      <th>2</th>\n",
       "      <td>3</td>\n",
       "      <td>2011-01-01</td>\n",
       "      <td>1</td>\n",
       "      <td>0</td>\n",
       "      <td>1</td>\n",
       "      <td>2</td>\n",
       "      <td>0</td>\n",
       "      <td>6</td>\n",
       "      <td>0</td>\n",
       "      <td>1</td>\n",
       "      <td>0.22</td>\n",
       "      <td>0.2727</td>\n",
       "      <td>0.80</td>\n",
       "      <td>0.0</td>\n",
       "      <td>5</td>\n",
       "      <td>27</td>\n",
       "      <td>32</td>\n",
       "    </tr>\n",
       "    <tr>\n",
       "      <th>3</th>\n",
       "      <td>4</td>\n",
       "      <td>2011-01-01</td>\n",
       "      <td>1</td>\n",
       "      <td>0</td>\n",
       "      <td>1</td>\n",
       "      <td>3</td>\n",
       "      <td>0</td>\n",
       "      <td>6</td>\n",
       "      <td>0</td>\n",
       "      <td>1</td>\n",
       "      <td>0.24</td>\n",
       "      <td>0.2879</td>\n",
       "      <td>0.75</td>\n",
       "      <td>0.0</td>\n",
       "      <td>3</td>\n",
       "      <td>10</td>\n",
       "      <td>13</td>\n",
       "    </tr>\n",
       "    <tr>\n",
       "      <th>4</th>\n",
       "      <td>5</td>\n",
       "      <td>2011-01-01</td>\n",
       "      <td>1</td>\n",
       "      <td>0</td>\n",
       "      <td>1</td>\n",
       "      <td>4</td>\n",
       "      <td>0</td>\n",
       "      <td>6</td>\n",
       "      <td>0</td>\n",
       "      <td>1</td>\n",
       "      <td>0.24</td>\n",
       "      <td>0.2879</td>\n",
       "      <td>0.75</td>\n",
       "      <td>0.0</td>\n",
       "      <td>0</td>\n",
       "      <td>1</td>\n",
       "      <td>1</td>\n",
       "    </tr>\n",
       "  </tbody>\n",
       "</table>\n",
       "</div>"
      ],
      "text/plain": [
       "   instant      dteday  season  yr  mnth  hr  holiday  weekday  workingday  \\\n",
       "0        1  2011-01-01       1   0     1   0        0        6           0   \n",
       "1        2  2011-01-01       1   0     1   1        0        6           0   \n",
       "2        3  2011-01-01       1   0     1   2        0        6           0   \n",
       "3        4  2011-01-01       1   0     1   3        0        6           0   \n",
       "4        5  2011-01-01       1   0     1   4        0        6           0   \n",
       "\n",
       "   weathersit  temp   atemp   hum  windspeed  casual  registered  cnt  \n",
       "0           1  0.24  0.2879  0.81        0.0       3          13   16  \n",
       "1           1  0.22  0.2727  0.80        0.0       8          32   40  \n",
       "2           1  0.22  0.2727  0.80        0.0       5          27   32  \n",
       "3           1  0.24  0.2879  0.75        0.0       3          10   13  \n",
       "4           1  0.24  0.2879  0.75        0.0       0           1    1  "
      ]
     },
     "execution_count": 6,
     "metadata": {},
     "output_type": "execute_result"
    }
   ],
   "source": [
    "df.head()"
   ]
  },
  {
   "cell_type": "code",
   "execution_count": 7,
   "metadata": {},
   "outputs": [
    {
     "data": {
      "text/plain": [
       "instant       0\n",
       "dteday        0\n",
       "season        0\n",
       "yr            0\n",
       "mnth          0\n",
       "hr            0\n",
       "holiday       0\n",
       "weekday       0\n",
       "workingday    0\n",
       "weathersit    0\n",
       "temp          0\n",
       "atemp         0\n",
       "hum           0\n",
       "windspeed     0\n",
       "casual        0\n",
       "registered    0\n",
       "cnt           0\n",
       "dtype: int64"
      ]
     },
     "execution_count": 7,
     "metadata": {},
     "output_type": "execute_result"
    }
   ],
   "source": [
    "df.isnull().sum()"
   ]
  },
  {
   "cell_type": "markdown",
   "metadata": {},
   "source": [
    "## Preprocessing"
   ]
  },
  {
   "cell_type": "code",
   "execution_count": 8,
   "metadata": {},
   "outputs": [],
   "source": [
    "df.rename(columns={'instant':'rec_id','dteday':'datetime','yr':'year','mnth':'month','weathersit':'weather_condition',\n",
    "                       'hum':'humidity','cnt':'total_count'},inplace=True)"
   ]
  },
  {
   "cell_type": "code",
   "execution_count": 9,
   "metadata": {},
   "outputs": [],
   "source": [
    "df['datetime'] = pd.to_datetime(df['datetime'])\n",
    "\n",
    "df['datetime']=pd.to_datetime(df.datetime)\n",
    "\n",
    "df['season']= df.season.astype('category')\n",
    "df['hr'] = df.hr.astype('category')\n",
    "df['year']=df.year.astype('category')\n",
    "df['month']=df.month.astype('category')\n",
    "df['holiday']=df.holiday.astype('category')\n",
    "df['weekday']=df.weekday.astype('category')\n",
    "df['workingday']=df.workingday.astype('category')\n",
    "df['weather_condition']=df.weather_condition.astype('category')"
   ]
  },
  {
   "cell_type": "code",
   "execution_count": 10,
   "metadata": {},
   "outputs": [],
   "source": [
    "df.drop('rec_id', axis=1, inplace=True)"
   ]
  },
  {
   "cell_type": "markdown",
   "metadata": {},
   "source": [
    "## Remove highly correlated (redundant) features"
   ]
  },
  {
   "cell_type": "code",
   "execution_count": 11,
   "metadata": {},
   "outputs": [
    {
     "data": {
      "text/plain": [
       "(<Figure size 720x720 with 2 Axes>, <AxesSubplot:>)"
      ]
     },
     "execution_count": 11,
     "metadata": {},
     "output_type": "execute_result"
    },
    {
     "data": {
      "image/png": "[encoded data removed]",
      "text/plain": [
       "<Figure size 720x720 with 2 Axes>"
      ]
     },
     "metadata": {
      "needs_background": "light"
     },
     "output_type": "display_data"
    }
   ],
   "source": [
    "# Check for correlation\n",
    "plt.figure(figsize = (10,10)), sns.heatmap(df.corr())"
   ]
  },
  {
   "cell_type": "code",
   "execution_count": 12,
   "metadata": {},
   "outputs": [
    {
     "data": {
      "text/plain": [
       "(<Figure size 720x720 with 2 Axes>, <AxesSubplot:>)"
      ]
     },
     "execution_count": 12,
     "metadata": {},
     "output_type": "execute_result"
    },
    {
     "data": {
      "image/png": "[encoded data removed]",
      "text/plain": [
       "<Figure size 720x720 with 2 Axes>"
      ]
     },
     "metadata": {
      "needs_background": "light"
     },
     "output_type": "display_data"
    }
   ],
   "source": [
    "# Remove highly correlated values\n",
    "\n",
    "df.drop(['casual','registered','temp', 'datetime'], axis = 1, inplace = True)\n",
    "\n",
    "# Verify\n",
    "\n",
    "plt.figure(figsize = (10,10)), sns.heatmap(df.corr())"
   ]
  },
  {
   "cell_type": "markdown",
   "metadata": {},
   "source": [
    "## Outlier analysis of numerical variables"
   ]
  },
  {
   "cell_type": "code",
   "execution_count": 13,
   "metadata": {},
   "outputs": [
    {
     "data": {
      "image/png": "[encoded data removed]",
      "text/plain": [
       "<Figure size 1080x576 with 1 Axes>"
      ]
     },
     "metadata": {
      "needs_background": "light"
     },
     "output_type": "display_data"
    }
   ],
   "source": [
    "# Outlier analysis of numerical variables\n",
    "\n",
    "# Temp, windspeed, humidity\n",
    "\n",
    "fig,ax=plt.subplots(figsize=(15,8))\n",
    "#Box plot for Temp_windspeed_humidity_outliers\n",
    "sns.boxplot(data=df[['atemp','windspeed','humidity']])\n",
    "ax.set_title('Temp_windspeed_humidity_outiers')\n",
    "plt.show()"
   ]
  },
  {
   "cell_type": "code",
   "execution_count": 14,
   "metadata": {},
   "outputs": [
    {
     "data": {
      "text/html": [
       "<div>\n",
       "<style scoped>\n",
       "    .dataframe tbody tr th:only-of-type {\n",
       "        vertical-align: middle;\n",
       "    }\n",
       "\n",
       "    .dataframe tbody tr th {\n",
       "        vertical-align: top;\n",
       "    }\n",
       "\n",
       "    .dataframe thead th {\n",
       "        text-align: right;\n",
       "    }\n",
       "</style>\n",
       "<table border=\"1\" class=\"dataframe\">\n",
       "  <thead>\n",
       "    <tr style=\"text-align: right;\">\n",
       "      <th></th>\n",
       "      <th>season</th>\n",
       "      <th>year</th>\n",
       "      <th>month</th>\n",
       "      <th>hr</th>\n",
       "      <th>holiday</th>\n",
       "      <th>weekday</th>\n",
       "      <th>workingday</th>\n",
       "      <th>weather_condition</th>\n",
       "      <th>atemp</th>\n",
       "      <th>humidity</th>\n",
       "      <th>windspeed</th>\n",
       "      <th>total_count</th>\n",
       "    </tr>\n",
       "  </thead>\n",
       "  <tbody>\n",
       "    <tr>\n",
       "      <th>0</th>\n",
       "      <td>1</td>\n",
       "      <td>0</td>\n",
       "      <td>1</td>\n",
       "      <td>0</td>\n",
       "      <td>0</td>\n",
       "      <td>6</td>\n",
       "      <td>0</td>\n",
       "      <td>1</td>\n",
       "      <td>0.2879</td>\n",
       "      <td>0.81</td>\n",
       "      <td>0.0</td>\n",
       "      <td>16</td>\n",
       "    </tr>\n",
       "    <tr>\n",
       "      <th>1</th>\n",
       "      <td>1</td>\n",
       "      <td>0</td>\n",
       "      <td>1</td>\n",
       "      <td>1</td>\n",
       "      <td>0</td>\n",
       "      <td>6</td>\n",
       "      <td>0</td>\n",
       "      <td>1</td>\n",
       "      <td>0.2727</td>\n",
       "      <td>0.80</td>\n",
       "      <td>0.0</td>\n",
       "      <td>40</td>\n",
       "    </tr>\n",
       "    <tr>\n",
       "      <th>2</th>\n",
       "      <td>1</td>\n",
       "      <td>0</td>\n",
       "      <td>1</td>\n",
       "      <td>2</td>\n",
       "      <td>0</td>\n",
       "      <td>6</td>\n",
       "      <td>0</td>\n",
       "      <td>1</td>\n",
       "      <td>0.2727</td>\n",
       "      <td>0.80</td>\n",
       "      <td>0.0</td>\n",
       "      <td>32</td>\n",
       "    </tr>\n",
       "    <tr>\n",
       "      <th>3</th>\n",
       "      <td>1</td>\n",
       "      <td>0</td>\n",
       "      <td>1</td>\n",
       "      <td>3</td>\n",
       "      <td>0</td>\n",
       "      <td>6</td>\n",
       "      <td>0</td>\n",
       "      <td>1</td>\n",
       "      <td>0.2879</td>\n",
       "      <td>0.75</td>\n",
       "      <td>0.0</td>\n",
       "      <td>13</td>\n",
       "    </tr>\n",
       "    <tr>\n",
       "      <th>4</th>\n",
       "      <td>1</td>\n",
       "      <td>0</td>\n",
       "      <td>1</td>\n",
       "      <td>4</td>\n",
       "      <td>0</td>\n",
       "      <td>6</td>\n",
       "      <td>0</td>\n",
       "      <td>1</td>\n",
       "      <td>0.2879</td>\n",
       "      <td>0.75</td>\n",
       "      <td>0.0</td>\n",
       "      <td>1</td>\n",
       "    </tr>\n",
       "  </tbody>\n",
       "</table>\n",
       "</div>"
      ],
      "text/plain": [
       "  season year month hr holiday weekday workingday weather_condition   atemp  \\\n",
       "0      1    0     1  0       0       6          0                 1  0.2879   \n",
       "1      1    0     1  1       0       6          0                 1  0.2727   \n",
       "2      1    0     1  2       0       6          0                 1  0.2727   \n",
       "3      1    0     1  3       0       6          0                 1  0.2879   \n",
       "4      1    0     1  4       0       6          0                 1  0.2879   \n",
       "\n",
       "   humidity  windspeed  total_count  \n",
       "0      0.81        0.0           16  \n",
       "1      0.80        0.0           40  \n",
       "2      0.80        0.0           32  \n",
       "3      0.75        0.0           13  \n",
       "4      0.75        0.0            1  "
      ]
     },
     "execution_count": 14,
     "metadata": {},
     "output_type": "execute_result"
    }
   ],
   "source": [
    "# Impute the outlier values\n",
    "\n",
    "\n",
    "#create dataframe for outliers\n",
    "wind_hum=pd.DataFrame(df,columns=['windspeed','humidity'])\n",
    " #Cnames for outliers                     \n",
    "cnames=['windspeed','humidity']       \n",
    "                      \n",
    "for i in cnames:\n",
    "    q75,q25=np.percentile(wind_hum.loc[:,i],[75,25]) # Divide data into 75%quantile and 25%quantile.\n",
    "    iqr=q75-q25 #Inter quantile range\n",
    "    min=q25-(iqr*1.5) #inner fence\n",
    "    max=q75+(iqr*1.5) #outer fence\n",
    "    wind_hum.loc[wind_hum.loc[:,i]<min,:i]=np.nan  #Replace with NA\n",
    "    wind_hum.loc[wind_hum.loc[:,i]>max,:i]=np.nan  #Replace with NA\n",
    "    \n",
    "#Imputating the outliers by mean Imputation\n",
    "wind_hum['windspeed']=wind_hum['windspeed'].fillna(wind_hum['windspeed'].mean())\n",
    "wind_hum['humidity']=wind_hum['humidity'].fillna(wind_hum['humidity'].mean())\n",
    "\n",
    "#Replacing the imputated windspeed\n",
    "df['windspeed']= df['windspeed'].replace(wind_hum['windspeed'])\n",
    "#Replacing the imputated humidity\n",
    "df['humidity']= df['humidity'].replace(wind_hum['humidity'])\n",
    "df.head(5)"
   ]
  },
  {
   "cell_type": "markdown",
   "metadata": {},
   "source": [
    "## Encode the dataset"
   ]
  },
  {
   "cell_type": "code",
   "execution_count": 15,
   "metadata": {},
   "outputs": [],
   "source": [
    "#Create a new dataset for train attributes\n",
    "all_attributes = df[['season','month','hr', 'year','weekday','holiday','workingday','weather_condition','humidity','atemp','windspeed', 'total_count']]\n",
    "\n",
    "#categorical attributes\n",
    "cat_attributes=['season','holiday','hr','workingday','weather_condition','year']\n",
    "\n",
    "#numerical attributes\n",
    "num_attributes=['atemp','windspeed','humidity','month','weekday']"
   ]
  },
  {
   "cell_type": "code",
   "execution_count": 16,
   "metadata": {},
   "outputs": [
    {
     "name": "stdout",
     "output_type": "stream",
     "text": [
      "Shape of transfomed dataframe:: (17379, 44)\n"
     ]
    },
    {
     "data": {
      "text/html": [
       "<div>\n",
       "<style scoped>\n",
       "    .dataframe tbody tr th:only-of-type {\n",
       "        vertical-align: middle;\n",
       "    }\n",
       "\n",
       "    .dataframe tbody tr th {\n",
       "        vertical-align: top;\n",
       "    }\n",
       "\n",
       "    .dataframe thead th {\n",
       "        text-align: right;\n",
       "    }\n",
       "</style>\n",
       "<table border=\"1\" class=\"dataframe\">\n",
       "  <thead>\n",
       "    <tr style=\"text-align: right;\">\n",
       "      <th></th>\n",
       "      <th>month</th>\n",
       "      <th>weekday</th>\n",
       "      <th>humidity</th>\n",
       "      <th>atemp</th>\n",
       "      <th>windspeed</th>\n",
       "      <th>total_count</th>\n",
       "      <th>season_1</th>\n",
       "      <th>season_2</th>\n",
       "      <th>season_3</th>\n",
       "      <th>season_4</th>\n",
       "      <th>...</th>\n",
       "      <th>hr_22</th>\n",
       "      <th>hr_23</th>\n",
       "      <th>workingday_0</th>\n",
       "      <th>workingday_1</th>\n",
       "      <th>weather_condition_1</th>\n",
       "      <th>weather_condition_2</th>\n",
       "      <th>weather_condition_3</th>\n",
       "      <th>weather_condition_4</th>\n",
       "      <th>year_0</th>\n",
       "      <th>year_1</th>\n",
       "    </tr>\n",
       "  </thead>\n",
       "  <tbody>\n",
       "    <tr>\n",
       "      <th>0</th>\n",
       "      <td>1</td>\n",
       "      <td>6</td>\n",
       "      <td>0.81</td>\n",
       "      <td>0.2879</td>\n",
       "      <td>0.0</td>\n",
       "      <td>16</td>\n",
       "      <td>1</td>\n",
       "      <td>0</td>\n",
       "      <td>0</td>\n",
       "      <td>0</td>\n",
       "      <td>...</td>\n",
       "      <td>0</td>\n",
       "      <td>0</td>\n",
       "      <td>1</td>\n",
       "      <td>0</td>\n",
       "      <td>1</td>\n",
       "      <td>0</td>\n",
       "      <td>0</td>\n",
       "      <td>0</td>\n",
       "      <td>1</td>\n",
       "      <td>0</td>\n",
       "    </tr>\n",
       "    <tr>\n",
       "      <th>1</th>\n",
       "      <td>1</td>\n",
       "      <td>6</td>\n",
       "      <td>0.80</td>\n",
       "      <td>0.2727</td>\n",
       "      <td>0.0</td>\n",
       "      <td>40</td>\n",
       "      <td>1</td>\n",
       "      <td>0</td>\n",
       "      <td>0</td>\n",
       "      <td>0</td>\n",
       "      <td>...</td>\n",
       "      <td>0</td>\n",
       "      <td>0</td>\n",
       "      <td>1</td>\n",
       "      <td>0</td>\n",
       "      <td>1</td>\n",
       "      <td>0</td>\n",
       "      <td>0</td>\n",
       "      <td>0</td>\n",
       "      <td>1</td>\n",
       "      <td>0</td>\n",
       "    </tr>\n",
       "    <tr>\n",
       "      <th>2</th>\n",
       "      <td>1</td>\n",
       "      <td>6</td>\n",
       "      <td>0.80</td>\n",
       "      <td>0.2727</td>\n",
       "      <td>0.0</td>\n",
       "      <td>32</td>\n",
       "      <td>1</td>\n",
       "      <td>0</td>\n",
       "      <td>0</td>\n",
       "      <td>0</td>\n",
       "      <td>...</td>\n",
       "      <td>0</td>\n",
       "      <td>0</td>\n",
       "      <td>1</td>\n",
       "      <td>0</td>\n",
       "      <td>1</td>\n",
       "      <td>0</td>\n",
       "      <td>0</td>\n",
       "      <td>0</td>\n",
       "      <td>1</td>\n",
       "      <td>0</td>\n",
       "    </tr>\n",
       "    <tr>\n",
       "      <th>3</th>\n",
       "      <td>1</td>\n",
       "      <td>6</td>\n",
       "      <td>0.75</td>\n",
       "      <td>0.2879</td>\n",
       "      <td>0.0</td>\n",
       "      <td>13</td>\n",
       "      <td>1</td>\n",
       "      <td>0</td>\n",
       "      <td>0</td>\n",
       "      <td>0</td>\n",
       "      <td>...</td>\n",
       "      <td>0</td>\n",
       "      <td>0</td>\n",
       "      <td>1</td>\n",
       "      <td>0</td>\n",
       "      <td>1</td>\n",
       "      <td>0</td>\n",
       "      <td>0</td>\n",
       "      <td>0</td>\n",
       "      <td>1</td>\n",
       "      <td>0</td>\n",
       "    </tr>\n",
       "    <tr>\n",
       "      <th>4</th>\n",
       "      <td>1</td>\n",
       "      <td>6</td>\n",
       "      <td>0.75</td>\n",
       "      <td>0.2879</td>\n",
       "      <td>0.0</td>\n",
       "      <td>1</td>\n",
       "      <td>1</td>\n",
       "      <td>0</td>\n",
       "      <td>0</td>\n",
       "      <td>0</td>\n",
       "      <td>...</td>\n",
       "      <td>0</td>\n",
       "      <td>0</td>\n",
       "      <td>1</td>\n",
       "      <td>0</td>\n",
       "      <td>1</td>\n",
       "      <td>0</td>\n",
       "      <td>0</td>\n",
       "      <td>0</td>\n",
       "      <td>1</td>\n",
       "      <td>0</td>\n",
       "    </tr>\n",
       "  </tbody>\n",
       "</table>\n",
       "<p>5 rows × 44 columns</p>\n",
       "</div>"
      ],
      "text/plain": [
       "  month weekday  humidity   atemp  windspeed  total_count  season_1  season_2  \\\n",
       "0     1       6      0.81  0.2879        0.0           16         1         0   \n",
       "1     1       6      0.80  0.2727        0.0           40         1         0   \n",
       "2     1       6      0.80  0.2727        0.0           32         1         0   \n",
       "3     1       6      0.75  0.2879        0.0           13         1         0   \n",
       "4     1       6      0.75  0.2879        0.0            1         1         0   \n",
       "\n",
       "   season_3  season_4  ...  hr_22  hr_23  workingday_0  workingday_1  \\\n",
       "0         0         0  ...      0      0             1             0   \n",
       "1         0         0  ...      0      0             1             0   \n",
       "2         0         0  ...      0      0             1             0   \n",
       "3         0         0  ...      0      0             1             0   \n",
       "4         0         0  ...      0      0             1             0   \n",
       "\n",
       "   weather_condition_1  weather_condition_2  weather_condition_3  \\\n",
       "0                    1                    0                    0   \n",
       "1                    1                    0                    0   \n",
       "2                    1                    0                    0   \n",
       "3                    1                    0                    0   \n",
       "4                    1                    0                    0   \n",
       "\n",
       "   weather_condition_4  year_0  year_1  \n",
       "0                    0       1       0  \n",
       "1                    0       1       0  \n",
       "2                    0       1       0  \n",
       "3                    0       1       0  \n",
       "4                    0       1       0  \n",
       "\n",
       "[5 rows x 44 columns]"
      ]
     },
     "execution_count": 16,
     "metadata": {},
     "output_type": "execute_result"
    }
   ],
   "source": [
    "data = pd.get_dummies(all_attributes,columns=cat_attributes)\n",
    "print('Shape of transfomed dataframe::', data.shape)\n",
    "data.head(5)"
   ]
  },
  {
   "cell_type": "markdown",
   "metadata": {},
   "source": [
    "## Normalization of dataset: We normalize the dataset to make our NN model fit better"
   ]
  },
  {
   "cell_type": "code",
   "execution_count": 17,
   "metadata": {},
   "outputs": [
    {
     "name": "stdout",
     "output_type": "stream",
     "text": [
      "(15641, 44)\n",
      "(1738, 44)\n"
     ]
    }
   ],
   "source": [
    "train,test = train_test_split(data,test_size=0.1,random_state=0)\n",
    "\n",
    "print(train.shape)\n",
    "print(test.shape)"
   ]
  },
  {
   "cell_type": "code",
   "execution_count": 20,
   "metadata": {},
   "outputs": [],
   "source": [
    "scaler  = MinMaxScaler()\n",
    "\n",
    "num_colu = ['atemp', 'humidity', 'windspeed']\n",
    "trans_1 = scaler.fit(train[num_colu].to_numpy())\n",
    "train.loc[:,num_colu] = trans_1.transform(train[num_colu].to_numpy())\n",
    "test.loc[:,num_colu] = trans_1.transform(test[num_colu].to_numpy())\n",
    "\n",
    "cnt_scaler = MinMaxScaler()\n",
    "trans_2 = cnt_scaler.fit(train[[\"total_count\"]])\n",
    "train[\"total_count\"] = trans_2.transform(train[[\"total_count\"]])\n",
    "test[\"total_count\"] = trans_2.transform(test[[\"total_count\"]])"
   ]
  },
  {
   "cell_type": "markdown",
   "metadata": {},
   "source": [
    "## Scaling: Add the time step in the dataset to make it compatible with the NN model"
   ]
  },
  {
   "cell_type": "code",
   "execution_count": 24,
   "metadata": {},
   "outputs": [
    {
     "data": {
      "application/vnd.jupyter.widget-view+json": {
       "model_id": "cd188a912f4e4bc6bffe3d020cbefdd1",
       "version_major": 2,
       "version_minor": 0
      },
      "text/plain": [
       "HBox(children=(HTML(value=''), FloatProgress(value=1.0, bar_style='info', layout=Layout(width='20px'), max=1.0…"
      ]
     },
     "metadata": {},
     "output_type": "display_data"
    },
    {
     "name": "stdout",
     "output_type": "stream",
     "text": [
      "\n"
     ]
    },
    {
     "data": {
      "application/vnd.jupyter.widget-view+json": {
       "model_id": "7ef8198a924a4bd69f622cb2f6e15ed7",
       "version_major": 2,
       "version_minor": 0
      },
      "text/plain": [
       "HBox(children=(HTML(value=''), FloatProgress(value=0.0, max=15617.0), HTML(value='')))"
      ]
     },
     "metadata": {},
     "output_type": "display_data"
    },
    {
     "name": "stdout",
     "output_type": "stream",
     "text": [
      "\n"
     ]
    },
    {
     "data": {
      "application/vnd.jupyter.widget-view+json": {
       "model_id": "e611f92eaa8c4e3aaf5217d297b44a90",
       "version_major": 2,
       "version_minor": 0
      },
      "text/plain": [
       "HBox(children=(HTML(value=''), FloatProgress(value=0.0, max=1714.0), HTML(value='')))"
      ]
     },
     "metadata": {},
     "output_type": "display_data"
    },
    {
     "name": "stdout",
     "output_type": "stream",
     "text": [
      "\n"
     ]
    }
   ],
   "source": [
    "tqdm().pandas()\n",
    "\n",
    "def prepare_data(X,y,time_steps=1):\n",
    "    Xs = []\n",
    "    Ys = []\n",
    "    for i in tqdm(range(len(X) - time_steps)):\n",
    "        a = X.iloc[i:(i + time_steps)].to_numpy()\n",
    "        Xs.append(a)\n",
    "        Ys.append(y.iloc[i+time_steps])\n",
    "    return np.array(Xs),np.array(Ys)    \n",
    "\n",
    "steps=24 # Each hour in a day\n",
    "X_train , y_train = prepare_data(train,train.total_count,time_steps=steps)\n",
    "X_test , y_test = prepare_data(test,test.total_count,time_steps=steps)"
   ]
  },
  {
   "cell_type": "code",
   "execution_count": 25,
   "metadata": {},
   "outputs": [
    {
     "name": "stdout",
     "output_type": "stream",
     "text": [
      "X_train : (15617, 24, 44)\n",
      "X_test : (1714, 24, 44)\n",
      "y_train : (15617,)\n",
      "y_test: (1714,)\n"
     ]
    }
   ],
   "source": [
    "print(\"X_train : {}\\nX_test : {}\\ny_train : {}\\ny_test: {}\".format(X_train.shape,X_test.shape,y_train.shape,y_test.shape))"
   ]
  },
  {
   "cell_type": "markdown",
   "metadata": {},
   "source": [
    "### Train a Bi-LSTM model on the last 600 days (hourly) and test it against 70 days (hourly)"
   ]
  },
  {
   "cell_type": "code",
   "execution_count": 43,
   "metadata": {},
   "outputs": [],
   "source": [
    "model = Sequential()\n",
    "model.add(Bidirectional(LSTM(50, return_sequences=False, input_shape=(X_train.shape[1],X_train.shape[2]))))\n",
    "model.add(Dropout(0.2))\n",
    "model.add(Dense(1,activation=\"sigmoid\"))\n",
    "model.compile(optimizer=\"adam\",loss=\"mse\")"
   ]
  },
  {
   "cell_type": "code",
   "execution_count": 44,
   "metadata": {},
   "outputs": [
    {
     "name": "stdout",
     "output_type": "stream",
     "text": [
      "Epoch 1/100\n",
      "\n",
      "489/489 [==============================] - 7s 13ms/step - loss: 0.0371 - val_loss: 0.0337\n",
      "Epoch 2/100\n",
      "489/489 [==============================] - 6s 12ms/step - loss: 0.0353 - val_loss: 0.0336\n",
      "Epoch 3/100\n",
      "489/489 [==============================] - 5s 11ms/step - loss: 0.0349 - val_loss: 0.0336\n",
      "Epoch 4/100\n",
      "489/489 [==============================] - 5s 11ms/step - loss: 0.0348 - val_loss: 0.0336\n",
      "Epoch 5/100\n",
      "489/489 [==============================] - 5s 11ms/step - loss: 0.0348 - val_loss: 0.0337\n",
      "Epoch 6/100\n",
      "489/489 [==============================] - 5s 11ms/step - loss: 0.0348 - val_loss: 0.0339\n",
      "Epoch 7/100\n",
      "489/489 [==============================] - 6s 12ms/step - loss: 0.0347 - val_loss: 0.0337\n",
      "Epoch 8/100\n",
      "489/489 [==============================] - 5s 11ms/step - loss: 0.0347 - val_loss: 0.0339\n",
      "Epoch 9/100\n",
      "489/489 [==============================] - 5s 10ms/step - loss: 0.0346 - val_loss: 0.0338\n",
      "Epoch 10/100\n",
      "489/489 [==============================] - 5s 10ms/step - loss: 0.0346 - val_loss: 0.0339\n",
      "Epoch 11/100\n",
      "489/489 [==============================] - 5s 10ms/step - loss: 0.0345 - val_loss: 0.0341\n",
      "Epoch 12/100\n",
      "489/489 [==============================] - 5s 10ms/step - loss: 0.0343 - val_loss: 0.0344\n",
      "Epoch 13/100\n",
      "489/489 [==============================] - 5s 10ms/step - loss: 0.0343 - val_loss: 0.0340\n",
      "Epoch 14/100\n",
      "489/489 [==============================] - 5s 10ms/step - loss: 0.0342 - val_loss: 0.0344\n",
      "Epoch 15/100\n",
      "489/489 [==============================] - 5s 10ms/step - loss: 0.0340 - val_loss: 0.0345\n",
      "Epoch 16/100\n",
      "489/489 [==============================] - 5s 10ms/step - loss: 0.0339 - val_loss: 0.0344\n",
      "Epoch 17/100\n",
      "489/489 [==============================] - 5s 10ms/step - loss: 0.0337 - val_loss: 0.0345\n",
      "Epoch 18/100\n",
      "489/489 [==============================] - 5s 10ms/step - loss: 0.0336 - val_loss: 0.0347\n",
      "Epoch 19/100\n",
      "489/489 [==============================] - 5s 10ms/step - loss: 0.0333 - val_loss: 0.0353\n",
      "Epoch 20/100\n",
      "489/489 [==============================] - 5s 10ms/step - loss: 0.0330 - val_loss: 0.0353\n",
      "Epoch 21/100\n",
      "489/489 [==============================] - 5s 10ms/step - loss: 0.0329 - val_loss: 0.0359\n",
      "Epoch 22/100\n",
      "489/489 [==============================] - 5s 10ms/step - loss: 0.0324 - val_loss: 0.0361\n",
      "Epoch 23/100\n",
      "489/489 [==============================] - 5s 10ms/step - loss: 0.0321 - val_loss: 0.0362\n",
      "Epoch 24/100\n",
      "489/489 [==============================] - 5s 10ms/step - loss: 0.0317 - val_loss: 0.0369\n",
      "Epoch 25/100\n",
      "489/489 [==============================] - 5s 10ms/step - loss: 0.0311 - val_loss: 0.0374\n",
      "Epoch 26/100\n",
      "489/489 [==============================] - 5s 10ms/step - loss: 0.0306 - val_loss: 0.0370\n",
      "Epoch 27/100\n",
      "489/489 [==============================] - 5s 10ms/step - loss: 0.0298 - val_loss: 0.0378\n",
      "Epoch 28/100\n",
      "489/489 [==============================] - 5s 10ms/step - loss: 0.0292 - val_loss: 0.0384\n",
      "Epoch 29/100\n",
      "489/489 [==============================] - 5s 10ms/step - loss: 0.0285 - val_loss: 0.0403\n",
      "Epoch 30/100\n",
      "489/489 [==============================] - 5s 10ms/step - loss: 0.0278 - val_loss: 0.0402\n",
      "Epoch 31/100\n",
      "489/489 [==============================] - 5s 10ms/step - loss: 0.0270 - val_loss: 0.0403\n",
      "Epoch 32/100\n",
      "489/489 [==============================] - 5s 10ms/step - loss: 0.0262 - val_loss: 0.0409\n",
      "Epoch 33/100\n",
      "489/489 [==============================] - 5s 10ms/step - loss: 0.0254 - val_loss: 0.0423\n",
      "Epoch 34/100\n",
      "489/489 [==============================] - 5s 10ms/step - loss: 0.0246 - val_loss: 0.0417\n",
      "Epoch 35/100\n",
      "489/489 [==============================] - 5s 10ms/step - loss: 0.0237 - val_loss: 0.0444\n",
      "Epoch 36/100\n",
      "489/489 [==============================] - 5s 10ms/step - loss: 0.0226 - val_loss: 0.0438\n",
      "Epoch 37/100\n",
      "489/489 [==============================] - 5s 10ms/step - loss: 0.0219 - val_loss: 0.0445\n",
      "Epoch 38/100\n",
      "489/489 [==============================] - 5s 10ms/step - loss: 0.0212 - val_loss: 0.0452\n",
      "Epoch 39/100\n",
      "489/489 [==============================] - 5s 10ms/step - loss: 0.0202 - val_loss: 0.0462\n",
      "Epoch 40/100\n",
      "489/489 [==============================] - 5s 10ms/step - loss: 0.0197 - val_loss: 0.0484\n",
      "Epoch 41/100\n",
      "489/489 [==============================] - 5s 10ms/step - loss: 0.0186 - val_loss: 0.0472\n",
      "Epoch 42/100\n",
      "489/489 [==============================] - 5s 10ms/step - loss: 0.0177 - val_loss: 0.0467\n",
      "Epoch 43/100\n",
      "489/489 [==============================] - 5s 10ms/step - loss: 0.0173 - val_loss: 0.0513\n",
      "Epoch 44/100\n",
      "489/489 [==============================] - 5s 10ms/step - loss: 0.0167 - val_loss: 0.0493\n",
      "Epoch 45/100\n",
      "489/489 [==============================] - 5s 10ms/step - loss: 0.0163 - val_loss: 0.0478\n",
      "Epoch 46/100\n",
      "489/489 [==============================] - 5s 10ms/step - loss: 0.0153 - val_loss: 0.0486\n",
      "Epoch 47/100\n",
      "489/489 [==============================] - 5s 10ms/step - loss: 0.0148 - val_loss: 0.0517\n",
      "Epoch 48/100\n",
      "489/489 [==============================] - 5s 10ms/step - loss: 0.0140 - val_loss: 0.0497\n",
      "Epoch 49/100\n",
      "489/489 [==============================] - 5s 10ms/step - loss: 0.0137 - val_loss: 0.0496\n",
      "Epoch 50/100\n",
      "489/489 [==============================] - 5s 10ms/step - loss: 0.0133 - val_loss: 0.0518\n",
      "Epoch 51/100\n",
      "489/489 [==============================] - 5s 10ms/step - loss: 0.0127 - val_loss: 0.0504\n",
      "Epoch 52/100\n",
      "489/489 [==============================] - 5s 10ms/step - loss: 0.0122 - val_loss: 0.0511\n",
      "Epoch 53/100\n",
      "489/489 [==============================] - 5s 10ms/step - loss: 0.0121 - val_loss: 0.0503\n",
      "Epoch 54/100\n",
      "489/489 [==============================] - 5s 10ms/step - loss: 0.0116 - val_loss: 0.0548\n",
      "Epoch 55/100\n",
      "489/489 [==============================] - 5s 10ms/step - loss: 0.0114 - val_loss: 0.0524\n",
      "Epoch 56/100\n",
      "489/489 [==============================] - 5s 10ms/step - loss: 0.0110 - val_loss: 0.0539\n",
      "Epoch 57/100\n",
      "489/489 [==============================] - 5s 10ms/step - loss: 0.0107 - val_loss: 0.0524\n",
      "Epoch 58/100\n",
      "489/489 [==============================] - 5s 10ms/step - loss: 0.0106 - val_loss: 0.0537\n",
      "Epoch 59/100\n",
      "489/489 [==============================] - 5s 10ms/step - loss: 0.0101 - val_loss: 0.0540\n",
      "Epoch 60/100\n",
      "489/489 [==============================] - 5s 11ms/step - loss: 0.0097 - val_loss: 0.0529\n",
      "Epoch 61/100\n",
      "489/489 [==============================] - 6s 12ms/step - loss: 0.0094 - val_loss: 0.0540\n",
      "Epoch 62/100\n",
      "489/489 [==============================] - 6s 13ms/step - loss: 0.0099 - val_loss: 0.0530\n",
      "Epoch 63/100\n",
      "489/489 [==============================] - 6s 13ms/step - loss: 0.0091 - val_loss: 0.0532\n",
      "Epoch 64/100\n",
      "489/489 [==============================] - 5s 10ms/step - loss: 0.0089 - val_loss: 0.0543\n",
      "Epoch 65/100\n",
      "489/489 [==============================] - 5s 10ms/step - loss: 0.0086 - val_loss: 0.0551\n",
      "Epoch 66/100\n",
      "489/489 [==============================] - 5s 10ms/step - loss: 0.0086 - val_loss: 0.0537\n",
      "Epoch 67/100\n",
      "489/489 [==============================] - 5s 10ms/step - loss: 0.0085 - val_loss: 0.0539\n",
      "Epoch 68/100\n",
      "489/489 [==============================] - 5s 10ms/step - loss: 0.0081 - val_loss: 0.0537\n",
      "Epoch 69/100\n",
      "489/489 [==============================] - 5s 10ms/step - loss: 0.0078 - val_loss: 0.0521\n",
      "Epoch 70/100\n",
      "489/489 [==============================] - 5s 10ms/step - loss: 0.0078 - val_loss: 0.0545\n",
      "Epoch 71/100\n",
      "489/489 [==============================] - 5s 10ms/step - loss: 0.0077 - val_loss: 0.0540\n",
      "Epoch 72/100\n",
      "489/489 [==============================] - 5s 10ms/step - loss: 0.0075 - val_loss: 0.0545\n",
      "Epoch 73/100\n",
      "489/489 [==============================] - 5s 10ms/step - loss: 0.0076 - val_loss: 0.0542\n",
      "Epoch 74/100\n",
      "489/489 [==============================] - 5s 10ms/step - loss: 0.0073 - val_loss: 0.0546\n",
      "Epoch 75/100\n",
      "489/489 [==============================] - 5s 10ms/step - loss: 0.0070 - val_loss: 0.0559\n",
      "Epoch 76/100\n",
      "489/489 [==============================] - 5s 10ms/step - loss: 0.0070 - val_loss: 0.0527\n",
      "Epoch 77/100\n",
      "489/489 [==============================] - 5s 10ms/step - loss: 0.0069 - val_loss: 0.0526\n",
      "Epoch 78/100\n",
      "489/489 [==============================] - 5s 10ms/step - loss: 0.0068 - val_loss: 0.0546\n",
      "Epoch 79/100\n",
      "489/489 [==============================] - 5s 10ms/step - loss: 0.0066 - val_loss: 0.0531\n",
      "Epoch 80/100\n",
      "489/489 [==============================] - 5s 10ms/step - loss: 0.0066 - val_loss: 0.0544\n",
      "Epoch 81/100\n",
      "489/489 [==============================] - 5s 10ms/step - loss: 0.0063 - val_loss: 0.0529\n",
      "Epoch 82/100\n",
      "489/489 [==============================] - 5s 10ms/step - loss: 0.0064 - val_loss: 0.0538\n",
      "Epoch 83/100\n",
      "489/489 [==============================] - 5s 10ms/step - loss: 0.0062 - val_loss: 0.0536\n",
      "Epoch 84/100\n",
      "489/489 [==============================] - 5s 10ms/step - loss: 0.0062 - val_loss: 0.0528\n",
      "Epoch 85/100\n",
      "489/489 [==============================] - 5s 10ms/step - loss: 0.0060 - val_loss: 0.0538\n",
      "Epoch 86/100\n",
      "489/489 [==============================] - 5s 10ms/step - loss: 0.0059 - val_loss: 0.0557\n",
      "Epoch 87/100\n",
      "489/489 [==============================] - 5s 10ms/step - loss: 0.0065 - val_loss: 0.0541\n",
      "Epoch 88/100\n",
      "489/489 [==============================] - 5s 10ms/step - loss: 0.0059 - val_loss: 0.0553\n",
      "Epoch 89/100\n",
      "489/489 [==============================] - 5s 10ms/step - loss: 0.0057 - val_loss: 0.0545\n",
      "Epoch 90/100\n",
      "489/489 [==============================] - 5s 10ms/step - loss: 0.0056 - val_loss: 0.0549\n",
      "Epoch 91/100\n",
      "489/489 [==============================] - 5s 10ms/step - loss: 0.0055 - val_loss: 0.0547\n",
      "Epoch 92/100\n",
      "489/489 [==============================] - 5s 10ms/step - loss: 0.0056 - val_loss: 0.0540\n",
      "Epoch 93/100\n",
      "489/489 [==============================] - 5s 10ms/step - loss: 0.0055 - val_loss: 0.0540\n",
      "Epoch 94/100\n",
      "489/489 [==============================] - 5s 10ms/step - loss: 0.0054 - val_loss: 0.0537\n",
      "Epoch 95/100\n",
      "489/489 [==============================] - 5s 10ms/step - loss: 0.0054 - val_loss: 0.0540\n",
      "Epoch 96/100\n",
      "489/489 [==============================] - 5s 10ms/step - loss: 0.0054 - val_loss: 0.0530\n",
      "Epoch 97/100\n",
      "489/489 [==============================] - 5s 11ms/step - loss: 0.0052 - val_loss: 0.0526\n",
      "Epoch 98/100\n",
      "489/489 [==============================] - 7s 13ms/step - loss: 0.0053 - val_loss: 0.0542\n",
      "Epoch 99/100\n",
      "489/489 [==============================] - 6s 13ms/step - loss: 0.0052 - val_loss: 0.0551\n",
      "Epoch 100/100\n",
      "489/489 [==============================] - 6s 12ms/step - loss: 0.0051 - val_loss: 0.0523\n"
     ]
    }
   ],
   "source": [
    "prepared_model = model.fit(X_train,y_train,batch_size=32,epochs=100,validation_data=(X_test,y_test))"
   ]
  },
  {
   "cell_type": "code",
   "execution_count": 64,
   "metadata": {},
   "outputs": [],
   "source": [
    "model_json = model.to_json()\n",
    "with open(\"nn_model.json\", \"w\") as json_file:\n",
    "    json_file.write(model_json)\n",
    "# serialize weights to HDF5\n",
    "model.save_weights(\"nn_model.h5\")"
   ]
  },
  {
   "cell_type": "code",
   "execution_count": 77,
   "metadata": {},
   "outputs": [
    {
     "data": {
      "text/plain": [
       "Text(0, 0.5, 'Bike count')"
      ]
     },
     "execution_count": 77,
     "metadata": {},
     "output_type": "execute_result"
    },
    {
     "data": {
      "image/png": "[encoded data removed]",
      "text/plain": [
       "<Figure size 1152x432 with 1 Axes>"
      ]
     },
     "metadata": {
      "needs_background": "light"
     },
     "output_type": "display_data"
    }
   ],
   "source": [
    "pred = model.predict(X_test)\n",
    "\n",
    "y_test_inv = cnt_scaler.inverse_transform(y_test.reshape(-1,1))\n",
    "pred_inv = cnt_scaler.inverse_transform(pred)\n",
    "\n",
    "plt.figure(figsize=(16,6))\n",
    "plt.plot(y_test_inv.flatten(), marker=\".\", label=\"actual\")\n",
    "plt.plot(pred_inv.flatten(), marker=\".\", label=\"prediction\")\n",
    "plt.title('Bike sharing prediction per hour using Bi-LSTM')\n",
    "plt.ylabel('Bike count')"
   ]
  },
  {
   "cell_type": "code",
   "execution_count": 48,
   "metadata": {},
   "outputs": [],
   "source": [
    "y_test_actual = cnt_scaler.inverse_transform(y_test.reshape(-1,1))\n",
    "y_test_pred = cnt_scaler.inverse_transform(pred)\n",
    "\n",
    "arr_1 = np.array(y_test_actual)\n",
    "arr_2 = np.array(y_test_pred)\n",
    "\n",
    "actual = pd.DataFrame(data=arr_1.flatten(),columns=[\"actual\"])\n",
    "predicted = pd.DataFrame(data=arr_2.flatten(),columns = [\"predicted\"])"
   ]
  },
  {
   "cell_type": "code",
   "execution_count": 49,
   "metadata": {},
   "outputs": [
    {
     "data": {
      "text/html": [
       "<div>\n",
       "<style scoped>\n",
       "    .dataframe tbody tr th:only-of-type {\n",
       "        vertical-align: middle;\n",
       "    }\n",
       "\n",
       "    .dataframe tbody tr th {\n",
       "        vertical-align: top;\n",
       "    }\n",
       "\n",
       "    .dataframe thead th {\n",
       "        text-align: right;\n",
       "    }\n",
       "</style>\n",
       "<table border=\"1\" class=\"dataframe\">\n",
       "  <thead>\n",
       "    <tr style=\"text-align: right;\">\n",
       "      <th></th>\n",
       "      <th>actual</th>\n",
       "      <th>predicted</th>\n",
       "    </tr>\n",
       "  </thead>\n",
       "  <tbody>\n",
       "    <tr>\n",
       "      <th>0</th>\n",
       "      <td>431.0</td>\n",
       "      <td>94.994095</td>\n",
       "    </tr>\n",
       "    <tr>\n",
       "      <th>1</th>\n",
       "      <td>33.0</td>\n",
       "      <td>366.169800</td>\n",
       "    </tr>\n",
       "    <tr>\n",
       "      <th>2</th>\n",
       "      <td>505.0</td>\n",
       "      <td>393.738983</td>\n",
       "    </tr>\n",
       "    <tr>\n",
       "      <th>3</th>\n",
       "      <td>267.0</td>\n",
       "      <td>184.529266</td>\n",
       "    </tr>\n",
       "    <tr>\n",
       "      <th>4</th>\n",
       "      <td>243.0</td>\n",
       "      <td>252.910706</td>\n",
       "    </tr>\n",
       "  </tbody>\n",
       "</table>\n",
       "</div>"
      ],
      "text/plain": [
       "   actual   predicted\n",
       "0   431.0   94.994095\n",
       "1    33.0  366.169800\n",
       "2   505.0  393.738983\n",
       "3   267.0  184.529266\n",
       "4   243.0  252.910706"
      ]
     },
     "execution_count": 49,
     "metadata": {},
     "output_type": "execute_result"
    }
   ],
   "source": [
    "final = pd.concat([actual,predicted],axis=1)\n",
    "final.head()"
   ]
  },
  {
   "cell_type": "code",
   "execution_count": 63,
   "metadata": {},
   "outputs": [
    {
     "name": "stdout",
     "output_type": "stream",
     "text": [
      "rmse is : 223.2510089394004\n",
      "mae is : 167.2345496022437\n"
     ]
    }
   ],
   "source": [
    "from sklearn.metrics import mean_squared_error, r2_score\n",
    "rmse = np.sqrt(mean_squared_error(final.actual,final.predicted)) \n",
    "mae=metrics.mean_absolute_error(final.actual,final.predicted)\n",
    "#r2 = r2_score(final.actual,final.predicted) \n",
    "print(\"rmse is : {}\\nmae is : {}\".format(rmse,mae))"
   ]
  },
  {
   "cell_type": "code",
   "execution_count": 75,
   "metadata": {},
   "outputs": [
    {
     "name": "stdout",
     "output_type": "stream",
     "text": [
      "[ 94.994095 366.1698   393.73898  ... 795.8894   119.85691  241.5343  ]\n"
     ]
    }
   ],
   "source": [
    "print(pred_inv.reshape(-1))"
   ]
  },
  {
   "cell_type": "code",
   "execution_count": null,
   "metadata": {},
   "outputs": [],
   "source": []
  }
 ],
 "metadata": {
  "kernelspec": {
   "display_name": "Python 3",
   "language": "python",
   "name": "python3"
  },
  "language_info": {
   "codemirror_mode": {
    "name": "ipython",
    "version": 3
   },
   "file_extension": ".py",
   "mimetype": "text/x-python",
   "name": "python",
   "nbconvert_exporter": "python",
   "pygments_lexer": "ipython3",
   "version": "3.7.3"
  }
 },
 "nbformat": 4,
 "nbformat_minor": 4
}
